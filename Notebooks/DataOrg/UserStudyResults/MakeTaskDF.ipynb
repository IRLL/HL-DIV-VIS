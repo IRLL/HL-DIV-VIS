{
 "cells": [
  {
   "cell_type": "code",
   "execution_count": 1,
   "metadata": {},
   "outputs": [],
   "source": [
    "import pandas as pd\n",
    "import seaborn as sns\n",
    "import matplotlib.pyplot as plt\n",
    "import numpy as np\n",
    "import pyarrow as pa\n",
    "import pyarrow.parquet as pq\n",
    "import os, os.path\n",
    "import random\n",
    "sns.set_style(\"whitegrid\")\n",
    "import matrixprofile as mp\n",
    "import matplotlib.gridspec as gridspec\n",
    "from sklearn import preprocessing\n",
    "import matplotlib.patches as mpatches\n",
    "import matplotlib.cm as cm\n",
    "import statistics\n",
    "from collections import Counter\n",
    "import pyarrow as pa\n",
    "import pyarrow.parquet as pq\n",
    "import glob\n",
    "from pathlib import Path"
   ]
  },
  {
   "cell_type": "code",
   "execution_count": 2,
   "metadata": {},
   "outputs": [],
   "source": [
    "topFolder = '/Users/byrdsmyth/iCloud/Documents/School/Thesis/Gorilla/feedback/PaidFor/'"
   ]
  },
  {
   "cell_type": "code",
   "execution_count": 3,
   "metadata": {
    "scrolled": false
   },
   "outputs": [
    {
     "name": "stdout",
     "output_type": "stream",
     "text": [
      "dirs:\n",
      "[]\n",
      "subdir\n",
      "/Users/byrdsmyth/iCloud/Documents/School/Thesis/Gorilla/feedback/PaidFor/Main_Task\n",
      "233\n",
      "Versions: [60. nan 62. 64. 65. 67. 70. 72. 73. 76.]\n"
     ]
    }
   ],
   "source": [
    "# Combine all main tasks CSVs\n",
    "\n",
    "mainPath = os.path.join(topFolder, 'Main_Task')\n",
    "mainDF = pd.DataFrame()\n",
    "\n",
    "for subdir, dirs, files in sorted(os.walk(mainPath)):\n",
    "    dir_name = os.path.basename(os.path.normpath(subdir))\n",
    "    print(\"dirs:\")\n",
    "    print(dirs)\n",
    "    print(\"subdir\")\n",
    "    print(subdir)\n",
    "\n",
    "    for filename in sorted(files):\n",
    "        if filename.endswith(\".csv\"):\n",
    "#             print(filename)\n",
    "            path = os.path.join(subdir,filename)\n",
    "            if os.path.getsize(path) > 3:\n",
    "#                 print(\"found\")\n",
    "                tmp = pd.read_csv(path)\n",
    "                mainDF = pd.concat([mainDF,tmp],ignore_index=True)\n",
    "        \n",
    "mainDF.columns = mainDF.columns.str.replace(' ', '')\n",
    "mainDF.columns = mainDF.columns.str.replace('-', '_')\n",
    "        \n",
    "print(len(mainDF.ParticipantPrivateID.unique()))\n",
    "print(\"Versions: \" + str(mainDF.ExperimentVersion.unique()))"
   ]
  },
  {
   "cell_type": "code",
   "execution_count": 4,
   "metadata": {},
   "outputs": [],
   "source": [
    "tempTopDir = '/Users/byrdsmyth/iCloud/Documents/School/Thesis/Gorilla/feedback/PaidFor/'\n",
    "\n",
    "if not os.path.isdir(tempTopDir):\n",
    "    os.mkdir(tempTopDir)"
   ]
  },
  {
   "cell_type": "code",
   "execution_count": 5,
   "metadata": {},
   "outputs": [
    {
     "name": "stdout",
     "output_type": "stream",
     "text": [
      "/Users/byrdsmyth/iCloud/Documents/School/Thesis/Gorilla/feedback/PaidFor/Main_Task\n"
     ]
    }
   ],
   "source": [
    "print(tempTopDir)"
   ]
  },
  {
   "cell_type": "code",
   "execution_count": 6,
   "metadata": {},
   "outputs": [
    {
     "data": {
      "text/plain": [
       "UTCTimestamp     float64\n",
       "ReactionTime      object\n",
       "UTCDate           object\n",
       "LocalDate         object\n",
       "ReactionOnset    float64\n",
       "dtype: object"
      ]
     },
     "execution_count": 6,
     "metadata": {},
     "output_type": "execute_result"
    }
   ],
   "source": [
    "mainDF[['UTCTimestamp','ReactionTime','UTCDate','LocalDate','ReactionOnset']].dtypes"
   ]
  },
  {
   "cell_type": "code",
   "execution_count": 10,
   "metadata": {},
   "outputs": [],
   "source": [
    "## I DO NOT KNOW IF THIS MESSES STUFF UP!!!!!\n",
    "\n",
    "# mainDF['LocalTimestamp'] = pd.to_timedelta(mainDF['LocalTimestamp']).dt.total_seconds()\n",
    "# mainDF['LocalTimezone'] = pd.to_timedelta(mainDF['LocalTimezone']).dt.total_seconds()\n",
    "\n",
    "# mainDF['UTCTimestamp'] = mainDF['UTCTimestamp']/1000\n",
    "\n",
    "# # mainDF['ReactionTime'] = mainDF['ReactionTime'].astype('float64')\n",
    "# mainDF['UTCDate'] = mainDF['UTCDate'].astype('datetime64[s]')\n",
    "# mainDF['LocalDate'] = mainDF['LocalDate'].astype('datetime64[s]')\n",
    "# mainDF['ReactionOnset'] = mainDF['ReactionOnset'].astype('datetime64[s]')"
   ]
  },
  {
   "cell_type": "code",
   "execution_count": 11,
   "metadata": {},
   "outputs": [],
   "source": [
    "# mainDF['ReactionTime'] = mainDF['ReactionTime'].fillna(0)\n",
    "# mainDF['ReactionTime'].replace('LOADING DELAY',0,inplace=True)\n",
    "# mainDF['ReactionTime'] = mainDF['ReactionTime'].astype('float64')\n"
   ]
  },
  {
   "cell_type": "code",
   "execution_count": 7,
   "metadata": {},
   "outputs": [],
   "source": [
    "# Write Main Task DF to CSV:\n",
    "filePath = os.path.join(tempTopDir, 'AllMain.csv')\n",
    "# mainDF.to_parquet(path=filePath,compression='brotli')\n",
    "mainDF.to_csv(filePath)"
   ]
  },
  {
   "cell_type": "code",
   "execution_count": null,
   "metadata": {},
   "outputs": [],
   "source": []
  },
  {
   "cell_type": "code",
   "execution_count": null,
   "metadata": {},
   "outputs": [],
   "source": []
  },
  {
   "cell_type": "code",
   "execution_count": null,
   "metadata": {},
   "outputs": [],
   "source": []
  }
 ],
 "metadata": {
  "kernelspec": {
   "display_name": "Python 3",
   "language": "python",
   "name": "python3"
  },
  "language_info": {
   "codemirror_mode": {
    "name": "ipython",
    "version": 3
   },
   "file_extension": ".py",
   "mimetype": "text/x-python",
   "name": "python",
   "nbconvert_exporter": "python",
   "pygments_lexer": "ipython3",
   "version": "3.7.9"
  }
 },
 "nbformat": 4,
 "nbformat_minor": 4
}
