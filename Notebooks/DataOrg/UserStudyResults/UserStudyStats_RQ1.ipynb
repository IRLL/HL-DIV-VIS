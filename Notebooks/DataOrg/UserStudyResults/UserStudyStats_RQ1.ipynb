{
 "cells": [
  {
   "cell_type": "code",
   "execution_count": 1,
   "metadata": {},
   "outputs": [],
   "source": [
    "import pandas as pd\n",
    "import numpy as np\n",
    "import scipy.stats as stats\n",
    "from statsmodels.formula.api import ols\n",
    "import matplotlib.pyplot as plt\n",
    "import seaborn as sns\n",
    "import os\n",
    "from scipy.stats import kurtosis, skew\n",
    "import statsmodels.api as sm\n",
    "import statsmodels.formula.api as smf\n",
    "import scikit_posthocs as sp\n",
    "from scipy.stats import wilcoxon"
   ]
  },
  {
   "cell_type": "code",
   "execution_count": 2,
   "metadata": {},
   "outputs": [
    {
     "name": "stdout",
     "output_type": "stream",
     "text": [
      "232\n"
     ]
    }
   ],
   "source": [
    "tempTopDir = '/Volumes/Britt_SSD/ReDoEvals3/UserStudy/'\n",
    "filePath = os.path.join(tempTopDir, 'GP_Main.parquet')\n",
    "\n",
    "filePath = os.path.join(tempTopDir, 'likertSlim_corrected.parquet')\n",
    "likertSlim = pd.read_parquet(filePath)\n",
    "\n",
    "\n",
    "likertSlim['visuals'] = np.where(likertSlim['visuals']==\"Visuals\",\"Charts\",\n",
    "                        np.where(likertSlim['visuals']==\"Blur_Plus_Vis\",\"Blur+Charts\",likertSlim['visuals']))\n",
    "\n",
    "likertSlim['ag_correctedPerc'] = likertSlim['1_2_correctedPerc']\n",
    "print(len(likertSlim))"
   ]
  },
  {
   "cell_type": "code",
   "execution_count": 3,
   "metadata": {},
   "outputs": [
    {
     "name": "stdout",
     "output_type": "stream",
     "text": [
      "232\n",
      "232\n"
     ]
    }
   ],
   "source": [
    "# drop particpants who have not been accepted (rejected or timed out)\n",
    "pID_removed1 = likertSlim[(likertSlim['status']!='APPROVED')].ParticipantPublicID.unique()\n",
    "print(len(likertSlim))\n",
    "# drop these given row\n",
    "# indexes from dataFrame\n",
    "likertSlim = likertSlim[~likertSlim['ParticipantPublicID'].isin(pID_removed1)].copy()\n",
    "print(len(likertSlim))\n",
    "# tmp_slimDF = slimDF[~slimDF['ParticipantPublicID'].isin(pID_removed1)].copy()\n",
    "# print(tmp_slimDF.status.unique())\n",
    "# print(pID_removed1)\n",
    "    \n",
    "# tmp_demoDF_L = demoDF_L[~demoDF_L['ParticipantPublicID'].isin(pID_removed1)].copy()\n",
    "# tmp_demoDF_S = demoDF_S[~demoDF_S['ParticipantPublicID'].isin(pID_removed1)].copy()\n",
    "\n",
    "# tmp_consentDF_L = consentDF_L[~consentDF_L['ParticipantPublicID'].isin(pID_removed1)].copy()\n",
    "# tmp_consentDF_S = consentDF_S[~consentDF_S['ParticipantPublicID'].isin(pID_removed1)].copy()\n",
    "\n",
    "# tmp_aiDF_L = aiDF_L[~aiDF_L['ParticipantPublicID'].isin(pID_removed1)].copy()\n",
    "# tmp_aiDF_S = aiDF_S[~aiDF_S['ParticipantPublicID'].isin(pID_removed1)].copy()\n",
    "\n",
    "# tmp_taskDF = taskDF[~taskDF['ParticipantPublicID'].isin(pID_removed1)].copy()\n",
    "\n",
    "# print(tmp_taskDF[tmp_taskDF['ParticipantPublicID']==pID_removed1[-3]])"
   ]
  },
  {
   "cell_type": "code",
   "execution_count": 4,
   "metadata": {},
   "outputs": [
    {
     "name": "stdout",
     "output_type": "stream",
     "text": [
      "Blur+Charts 54\n",
      "Charts 58\n",
      "Blurred 64\n",
      "Video 56\n"
     ]
    }
   ],
   "source": [
    "df = likertSlim.copy()\n",
    "\n",
    "for vis in df.visuals.unique():\n",
    "    print(str(vis) + \" \" + str(len(df[df['visuals']==vis])))"
   ]
  },
  {
   "cell_type": "code",
   "execution_count": 5,
   "metadata": {},
   "outputs": [],
   "source": [
    "vis = sorted(df['visuals'].unique().tolist())\n"
   ]
  },
  {
   "cell_type": "code",
   "execution_count": 6,
   "metadata": {},
   "outputs": [
    {
     "name": "stdout",
     "output_type": "stream",
     "text": [
      "['Blur+Charts', 'Blurred', 'Charts', 'Video']\n"
     ]
    }
   ],
   "source": [
    "print(vis)"
   ]
  },
  {
   "cell_type": "code",
   "execution_count": 7,
   "metadata": {},
   "outputs": [],
   "source": [
    "# function to make statsmodel into dataframe\n",
    "def results_summary_to_dataframe(results):\n",
    "    '''take the result of an statsmodel results table and transforms it into a dataframe'''\n",
    "    print(dir(results))\n",
    "    pvals = results.pvalues\n",
    "    coeff = results.params\n",
    "    conf_lower = results.conf_int()[0]\n",
    "    conf_higher = results.conf_int()[1]\n",
    "\n",
    "    results_df = pd.DataFrame({\"pvals\":pvals,\n",
    "                               \"coeff\":coeff,\n",
    "                               \"conf_lower\":conf_lower,\n",
    "                               \"conf_higher\":conf_higher\n",
    "                                })\n",
    "\n",
    "    #Reordering...\n",
    "    results_df = results_df[[\"coeff\",\"pvals\",\"conf_lower\",\"conf_higher\"]]\n",
    "    return results_df"
   ]
  },
  {
   "cell_type": "code",
   "execution_count": 8,
   "metadata": {},
   "outputs": [],
   "source": [
    "def negative_bold(val):\n",
    "    bold = 'bold' if val < 0 else ''\n",
    "    return 'font-weight: %s' % bold"
   ]
  },
  {
   "cell_type": "code",
   "execution_count": 9,
   "metadata": {},
   "outputs": [],
   "source": [
    "likertSlim['OneTwoCorrPerc'] = likertSlim['1_2_WO_Ghosts_correctedPerc']"
   ]
  },
  {
   "cell_type": "code",
   "execution_count": 10,
   "metadata": {
    "scrolled": false
   },
   "outputs": [
    {
     "name": "stdout",
     "output_type": "stream",
     "text": [
      "predictions\n",
      "ANOVA\n",
      "                sum_sq     df         F    PR(>F)\n",
      "C(visuals)   42.097830    3.0  8.699512  0.000017\n",
      "Residual    367.771782  228.0       NaN       NaN\n",
      "1.6130341335846299\n",
      "pair_t\n",
      "{{{{{{{}}}}}}}\n",
      "                   B   coef  std err      t  pvalue-holm\n",
      "A                                                       \n",
      "Blurred  Blur+Charts -0.393    0.235 -1.676        0.285\n",
      "Charts   Blur+Charts  0.748    0.240  3.114        0.008\n",
      "Video    Blur+Charts -0.093    0.242 -0.382        0.703\n",
      "Charts       Blurred  1.141    0.230  4.957        0.000\n",
      "Video        Blurred  0.301    0.232  1.294        0.394\n",
      "Video         Charts -0.841    0.238 -3.532        0.002\n",
      "\n",
      "regions\n",
      "ANOVA\n",
      "                sum_sq     df          F        PR(>F)\n",
      "C(visuals)   36.178114    3.0  15.571133  3.011783e-09\n",
      "Residual    176.579099  228.0        NaN           NaN\n",
      "0.774469731813831\n",
      "pair_t\n",
      "{{{{{{{}}}}}}}\n",
      "                   B   coef  std err      t  pvalue-holm\n",
      "A                                                       \n",
      "Blurred  Blur+Charts -0.876    0.163 -5.385        0.000\n",
      "Charts   Blur+Charts -0.174    0.166 -1.044        0.595\n",
      "Video    Blur+Charts -0.865    0.168 -5.156        0.000\n",
      "Charts       Blurred  0.702    0.160  4.400        0.000\n",
      "Video        Blurred  0.010    0.161  0.063        0.950\n",
      "Video         Charts -0.692    0.165 -4.196        0.000\n",
      "\n",
      "levels\n",
      "ANOVA\n",
      "               sum_sq     df         F    PR(>F)\n",
      "C(visuals)   1.066295    3.0  1.514986  0.211392\n",
      "Residual    53.491177  228.0       NaN       NaN\n",
      "0.23461042363962992\n",
      "pair_t\n",
      "{{{{{{{}}}}}}}\n",
      "                   B   coef  std err      t  pvalue-holm\n",
      "A                                                       \n",
      "Blurred  Blur+Charts -0.089    0.090 -0.991        1.000\n",
      "Charts   Blur+Charts -0.062    0.092 -0.679        1.000\n",
      "Video    Blur+Charts  0.087    0.092  0.940        1.000\n",
      "Charts       Blurred  0.027    0.088  0.303        1.000\n",
      "Video        Blurred  0.176    0.089  1.981        0.293\n",
      "Video         Charts  0.149    0.091  1.642        0.510\n",
      "\n",
      "ghosts\n",
      "ANOVA\n",
      "                sum_sq     df          F        PR(>F)\n",
      "C(visuals)   96.801797    3.0  43.604165  2.607045e-22\n",
      "Residual    168.720962  228.0        NaN           NaN\n",
      "0.7400042171200674\n",
      "pair_t\n",
      "{{{{{{{}}}}}}}\n",
      "                   B   coef  std err      t  pvalue-holm\n",
      "A                                                       \n",
      "Blurred  Blur+Charts  0.097    0.159  0.609        0.543\n",
      "Charts   Blur+Charts  1.604    0.163  9.861        0.000\n",
      "Video    Blur+Charts  0.302    0.164  1.841        0.201\n",
      "Charts       Blurred  1.507    0.156  9.665        0.000\n",
      "Video        Blurred  0.205    0.157  1.305        0.387\n",
      "Video         Charts -1.302    0.161 -8.079        0.000\n"
     ]
    }
   ],
   "source": [
    "######################################################################################\n",
    "######################################################################################\n",
    "######################################################################################\n",
    "######################################################################################\n",
    "######################################################################################\n",
    "######################################################################################\n",
    "######################################################################################\n",
    "######################################################################################\n",
    "# Part One\n",
    "######################################################################################\n",
    "######################################################################################\n",
    "######################################################################################\n",
    "######################################################################################\n",
    "######################################################################################\n",
    "######################################################################################\n",
    "######################################################################################\n",
    "\n",
    "# Part One: \n",
    "\n",
    "df = likertSlim.copy()\n",
    "# df = likertSlim[likertSlim['difficulty']==\"Easy\"].copy()\n",
    "# df = likertSlim[likertSlim['difficulty']==\"Difficult\"].copy()\n",
    "\n",
    "# ANOVA on totPerc v visuals\n",
    "# vis = sorted(df['visuals'].unique())\n",
    "print(\"predictions\")\n",
    "mod = ols('pred_correctedNum ~ C(visuals)', data=df).fit()\n",
    "aov_table = sm.stats.anova_lm(mod, typ=2)\n",
    "print(\"ANOVA\")\n",
    "print(aov_table)\n",
    "# print(mod.summary())\n",
    "print(mod.mse_resid)\n",
    "\n",
    "# Pair-wise t-test (independent) on totPerc v visuals\n",
    "pair_t = mod.t_test_pairwise('C(visuals)', method=\"holm\")\n",
    "print('pair_t')\n",
    "# print(pair_t)\n",
    "print(\"{{{{{{{}}}}}}}\")\n",
    "pairwiseResults = pair_t.result_frame\n",
    "pairwiseResults['new'] = pairwiseResults.index\n",
    "new = pairwiseResults.new.str.split(\"-\", n = 3, expand = True)\n",
    "pairwiseResults['A'] = new[0]\n",
    "pairwiseResults['B'] = new[1]\n",
    "pairwiseResults.set_index('A', inplace=True)\n",
    "pairwiseResults.drop(columns=['Conf. Int. Low','Conf. Int. Upp.','P>|t|','new', 'reject-holm'], inplace=True)\n",
    "pairwiseResults = pairwiseResults[['B', 'coef' ,  'std err' ,  't'  , 'pvalue-holm']]\n",
    "pairwiseResults = pairwiseResults.round(decimals=3)\n",
    "# print(pairwiseResults)\n",
    "# for i in pairwiseResults.columns.tolist():\n",
    "#     print(pairwiseResults[i].values)\n",
    "print(pairwiseResults)\n",
    "\n",
    "print(\"\\nregions\")\n",
    "mod = ols('reg_correctedNum ~ C(visuals)', data=df).fit()\n",
    "aov_table = sm.stats.anova_lm(mod, typ=2)\n",
    "print(\"ANOVA\")\n",
    "print(aov_table)\n",
    "# print(mod.summary())\n",
    "print(mod.mse_resid)\n",
    "\n",
    "# Pair-wise t-test (independent) on totPerc v visuals\n",
    "pair_t = mod.t_test_pairwise('C(visuals)', method=\"holm\")\n",
    "print('pair_t')\n",
    "# print(pair_t)\n",
    "print(\"{{{{{{{}}}}}}}\")\n",
    "pairwiseResults = pair_t.result_frame\n",
    "pairwiseResults['new'] = pairwiseResults.index\n",
    "new = pairwiseResults.new.str.split(\"-\", n = 3, expand = True)\n",
    "pairwiseResults['A'] = new[0]\n",
    "pairwiseResults['B'] = new[1]\n",
    "pairwiseResults.set_index('A', inplace=True)\n",
    "pairwiseResults.drop(columns=['Conf. Int. Low','Conf. Int. Upp.','P>|t|','new', 'reject-holm'], inplace=True)\n",
    "pairwiseResults = pairwiseResults[['B', 'coef' ,  'std err' ,  't'  , 'pvalue-holm']]\n",
    "pairwiseResults = pairwiseResults.round(decimals=3)\n",
    "# print(pairwiseResults)\n",
    "# for i in pairwiseResults.columns.tolist():\n",
    "#     print(pairwiseResults[i].values)\n",
    "print(pairwiseResults)\n",
    "\n",
    "print(\"\\nlevels\")\n",
    "mod = ols('level_correctedNum ~ C(visuals)', data=df).fit()\n",
    "aov_table = sm.stats.anova_lm(mod, typ=2)\n",
    "print(\"ANOVA\")\n",
    "print(aov_table)\n",
    "# print(mod.summary())\n",
    "print(mod.mse_resid)\n",
    "\n",
    "# Pair-wise t-test (independent) on totPerc v visuals\n",
    "pair_t = mod.t_test_pairwise('C(visuals)', method=\"holm\")\n",
    "print('pair_t')\n",
    "# print(pair_t)\n",
    "print(\"{{{{{{{}}}}}}}\")\n",
    "pairwiseResults = pair_t.result_frame\n",
    "pairwiseResults['new'] = pairwiseResults.index\n",
    "new = pairwiseResults.new.str.split(\"-\", n = 3, expand = True)\n",
    "pairwiseResults['A'] = new[0]\n",
    "pairwiseResults['B'] = new[1]\n",
    "pairwiseResults.set_index('A', inplace=True)\n",
    "pairwiseResults.drop(columns=['Conf. Int. Low','Conf. Int. Upp.','P>|t|','new', 'reject-holm'], inplace=True)\n",
    "pairwiseResults = pairwiseResults[['B', 'coef' ,  'std err' ,  't'  , 'pvalue-holm']]\n",
    "pairwiseResults = pairwiseResults.round(decimals=3)\n",
    "# print(pairwiseResults)\n",
    "# for i in pairwiseResults.columns.tolist():\n",
    "#     print(pairwiseResults[i].values)\n",
    "print(pairwiseResults)\n",
    "\n",
    "print(\"\\nghosts\")\n",
    "mod = ols('ghosts_correctedNum ~ C(visuals)', data=df).fit()\n",
    "aov_table = sm.stats.anova_lm(mod, typ=2)\n",
    "print(\"ANOVA\")\n",
    "print(aov_table)\n",
    "# print(mod.summary())\n",
    "print(mod.mse_resid)\n",
    "\n",
    "# Pair-wise t-test (independent) on totPerc v visuals\n",
    "pair_t = mod.t_test_pairwise('C(visuals)', method=\"holm\")\n",
    "print('pair_t')\n",
    "# print(pair_t)\n",
    "print(\"{{{{{{{}}}}}}}\")\n",
    "pairwiseResults = pair_t.result_frame\n",
    "pairwiseResults['new'] = pairwiseResults.index\n",
    "new = pairwiseResults.new.str.split(\"-\", n = 3, expand = True)\n",
    "pairwiseResults['A'] = new[0]\n",
    "pairwiseResults['B'] = new[1]\n",
    "pairwiseResults.set_index('A', inplace=True)\n",
    "pairwiseResults.drop(columns=['Conf. Int. Low','Conf. Int. Upp.','P>|t|','new', 'reject-holm'], inplace=True)\n",
    "pairwiseResults = pairwiseResults[['B', 'coef' ,  'std err' ,  't'  , 'pvalue-holm']]\n",
    "pairwiseResults = pairwiseResults.round(decimals=3)\n",
    "# print(pairwiseResults)\n",
    "# for i in pairwiseResults.columns.tolist():\n",
    "#     print(pairwiseResults[i].values)\n",
    "print(pairwiseResults)"
   ]
  },
  {
   "cell_type": "code",
   "execution_count": 13,
   "metadata": {},
   "outputs": [
    {
     "name": "stdout",
     "output_type": "stream",
     "text": [
      "LeveneResult(statistic=2.050701234242531, pvalue=0.1076024107312195)\n",
      "ShapiroResult(statistic=0.9760276079177856, pvalue=0.0005678394227288663)\n",
      "ANOVA\n",
      "                  sum_sq     df          F        PR(>F)\n",
      "C(visuals)  11456.314156    3.0  22.769785  6.244127e-13\n",
      "Residual    38238.387721  228.0        NaN           NaN\n",
      "167.7122268444748\n",
      "pair_t\n",
      "{{{{{{{}}}}}}}\n",
      "                   B    coef  std err      t  pvalue-holm\n",
      "A                                                        \n",
      "Blurred  Blur+Charts  -7.552    2.393 -3.156        0.005\n",
      "Charts   Blur+Charts  11.284    2.449  4.608        0.000\n",
      "Video    Blur+Charts  -2.749    2.470 -1.113        0.267\n",
      "Charts       Blurred  18.835    2.348  8.023        0.000\n",
      "Video        Blurred   4.803    2.370  2.027        0.088\n",
      "Video         Charts -14.033    2.426 -5.784        0.000\n",
      "['Blur+Charts' 'Blur+Charts' 'Blur+Charts' 'Blurred' 'Blurred' 'Charts']\n",
      "[ -7.552  11.284  -2.749  18.835   4.803 -14.033]\n",
      "[2.393 2.449 2.47  2.348 2.37  2.426]\n",
      "[-3.156  4.608 -1.113  8.023  2.027 -5.784]\n",
      "[0.005 0.    0.267 0.    0.088 0.   ]\n"
     ]
    }
   ],
   "source": [
    "#tot_correctedPerc\n",
    "######################################################################################\n",
    "######################################################################################\n",
    "######################################################################################\n",
    "######################################################################################\n",
    "######################################################################################\n",
    "######################################################################################\n",
    "######################################################################################\n",
    "######################################################################################\n",
    "# Part One\n",
    "######################################################################################\n",
    "######################################################################################\n",
    "######################################################################################\n",
    "######################################################################################\n",
    "######################################################################################\n",
    "######################################################################################\n",
    "######################################################################################\n",
    "\n",
    "# Part One: \n",
    "\n",
    "df = likertSlim.copy()\n",
    "# df = likertSlim[likertSlim['difficulty']==\"Easy\"].copy()\n",
    "# df = likertSlim[likertSlim['difficulty']==\"Difficult\"].copy()\n",
    "\n",
    "# levene:\n",
    "print(stats.levene(df[df['visuals']==vis[0]]['tot_correctedPerc'],\\\n",
    "                      df[df['visuals']==vis[1]]['tot_correctedPerc'],\\\n",
    "                         df[df['visuals']==vis[2]]['tot_correctedPerc'],\\\n",
    "                            df[df['visuals']==vis[3]]['tot_correctedPerc']))\n",
    "\n",
    "# shapiro:\n",
    "print(stats.shapiro(df['tot_correctedPerc']))\n",
    "\n",
    "# ANOVA on totPerc v visuals\n",
    "# vis = sorted(df['visuals'].unique())\n",
    "\n",
    "mod = ols('tot_correctedPerc ~ C(visuals)', data=df).fit()\n",
    "aov_table = sm.stats.anova_lm(mod, typ=2)\n",
    "print(\"ANOVA\")\n",
    "print(aov_table)\n",
    "# print(mod.summary())\n",
    "print(mod.mse_resid)\n",
    "\n",
    "# Pair-wise t-test (independent) on totPerc v visuals\n",
    "pair_t = mod.t_test_pairwise('C(visuals)', method=\"holm\")\n",
    "print('pair_t')\n",
    "# print(pair_t)\n",
    "print(\"{{{{{{{}}}}}}}\")\n",
    "pairwiseResults = pair_t.result_frame\n",
    "pairwiseResults['new'] = pairwiseResults.index\n",
    "new = pairwiseResults.new.str.split(\"-\", n = 3, expand = True)\n",
    "pairwiseResults['A'] = new[0]\n",
    "pairwiseResults['B'] = new[1]\n",
    "pairwiseResults.set_index('A', inplace=True)\n",
    "pairwiseResults.drop(columns=['Conf. Int. Low','Conf. Int. Upp.','P>|t|','new', 'reject-holm'], inplace=True)\n",
    "pairwiseResults = pairwiseResults[['B', 'coef' ,  'std err' ,  't'  , 'pvalue-holm']]\n",
    "pairwiseResults = pairwiseResults.round(decimals=3)\n",
    "print(pairwiseResults)\n",
    "for i in pairwiseResults.columns.tolist():\n",
    "    print(pairwiseResults[i].values)\n",
    "\n",
    "# for vis in df.visuals.unique():\n",
    "#     tmp = df[df['visuals']==vis]\n",
    "#     print(\"\\n\" + str(vis) + \" \" + str(len(tmp)))\n",
    "#     print(\"Mean: \" + str(stats.tmean(tmp['totPerc'])))\n",
    "#     print(\"StdDev: \" + str(stats.tstd(tmp['totPerc'])))"
   ]
  },
  {
   "cell_type": "code",
   "execution_count": 14,
   "metadata": {
    "scrolled": false
   },
   "outputs": [
    {
     "name": "stdout",
     "output_type": "stream",
     "text": [
      "                  sum_sq     df          F        PR(>F)\n",
      "C(visuals)  11456.314156    3.0  22.769785  6.244127e-13\n",
      "Residual    38238.387721  228.0        NaN           NaN\n",
      "167.7122268444748\n",
      "<statsmodels.stats.contrast.MultiCompResult object at 0x7f7c1c23c850>\n",
      "{{{{{{{}}}}}}}\n",
      "                          coef   std err         t         P>|t|  \\\n",
      "Blurred-Blur+Charts  -7.551732  2.392966 -3.155804  1.816350e-03   \n",
      "Charts-Blur+Charts   11.283571  2.448953  4.607507  6.781056e-06   \n",
      "Video-Blur+Charts    -2.749197  2.469948 -1.113059  2.668554e-01   \n",
      "Charts-Blurred       18.835302  2.347785  8.022585  5.423773e-14   \n",
      "Video-Blurred         4.802535  2.369676  2.026663  4.386110e-02   \n",
      "Video-Charts        -14.032767  2.426201 -5.783844  2.391472e-08   \n",
      "\n",
      "                     Conf. Int. Low  Conf. Int. Upp.   pvalue-holm  \\\n",
      "Blurred-Blur+Charts      -12.266887        -2.836577  5.449051e-03   \n",
      "Charts-Blur+Charts         6.458096        16.109045  2.712422e-05   \n",
      "Video-Blur+Charts         -7.616040         2.117646  2.668554e-01   \n",
      "Charts-Blurred            14.209173        23.461432  3.254264e-13   \n",
      "Video-Blurred              0.133270         9.471800  8.772219e-02   \n",
      "Video-Charts             -18.813410        -9.252125  1.195736e-07   \n",
      "\n",
      "                     reject-holm  \n",
      "Blurred-Blur+Charts         True  \n",
      "Charts-Blur+Charts          True  \n",
      "Video-Blur+Charts          False  \n",
      "Charts-Blurred              True  \n",
      "Video-Blurred              False  \n",
      "Video-Charts                True  \n"
     ]
    }
   ],
   "source": [
    "# # Part One: \n",
    "\n",
    "# # Ignore, we talk about this later\n",
    "\n",
    "# # df = likertSlim.copy()\n",
    "# df = likertSlim[likertSlim['difficulty']==\"Easy\"].copy()\n",
    "# # df = likertSlim[likertSlim['difficulty']==\"Difficult\"].copy()\n",
    "\n",
    "# # ANOVA on totPerc v visuals\n",
    "vis = sorted(df['visuals'].unique())\n",
    "\n",
    "mod = ols('tot_correctedPerc ~ C(visuals)', data=df).fit()\n",
    "aov_table = sm.stats.anova_lm(mod, typ=2)\n",
    "print(aov_table)\n",
    "# print(mod.summary())\n",
    "print(mod.mse_resid)\n",
    "\n",
    "\n",
    "# Pair-wise t-test (independent) on totPerc v visuals\n",
    "pair_t = mod.t_test_pairwise('C(visuals)', method=\"holm\")\n",
    "print(pair_t)\n",
    "print(\"{{{{{{{}}}}}}}\")\n",
    "print(pair_t.result_frame)\n",
    "\n",
    "# # Part One: \n",
    "# # Ignore, we talk about this later\n",
    "\n",
    "# # df = likertSlim.copy()\n",
    "# # df = likertSlim[likertSlim['difficulty']==\"Easy\"].copy()\n",
    "# df = likertSlim[likertSlim['difficulty']==\"Difficult\"].copy()\n",
    "\n",
    "# # ANOVA on totPerc v visuals\n",
    "# vis = sorted(df['visuals'].unique())\n",
    "\n",
    "# mod = ols('totPerc ~ C(visuals)', data=df).fit()\n",
    "# aov_table = sm.stats.anova_lm(mod, typ=2)\n",
    "# print(aov_table)\n",
    "# # print(mod.summary())\n",
    "# print(mod.mse_resid)\n",
    "\n",
    "# # Pair-wise t-test (independent) on totPerc v visuals\n",
    "# pair_t = mod.t_test_pairwise('C(visuals)', method=\"holm\")\n",
    "# print(pair_t)\n",
    "# print(\"{{{{{{{}}}}}}}\")\n",
    "# print(pair_t.result_frame)"
   ]
  },
  {
   "cell_type": "code",
   "execution_count": 15,
   "metadata": {},
   "outputs": [
    {
     "name": "stdout",
     "output_type": "stream",
     "text": [
      "['Blur+Charts', 'Blurred', 'Charts', 'Video']\n",
      "And kw: \n"
     ]
    },
    {
     "ename": "KeyError",
     "evalue": "'tot__WO_Ghosts_correctedPerc'",
     "output_type": "error",
     "traceback": [
      "\u001b[0;31m---------------------------------------------------------------------------\u001b[0m",
      "\u001b[0;31mKeyError\u001b[0m                                  Traceback (most recent call last)",
      "\u001b[0;32m~/opt/anaconda3/envs/thesis/lib/python3.7/site-packages/pandas/core/indexes/base.py\u001b[0m in \u001b[0;36mget_loc\u001b[0;34m(self, key, method, tolerance)\u001b[0m\n\u001b[1;32m   3360\u001b[0m             \u001b[0;32mtry\u001b[0m\u001b[0;34m:\u001b[0m\u001b[0;34m\u001b[0m\u001b[0;34m\u001b[0m\u001b[0m\n\u001b[0;32m-> 3361\u001b[0;31m                 \u001b[0;32mreturn\u001b[0m \u001b[0mself\u001b[0m\u001b[0;34m.\u001b[0m\u001b[0m_engine\u001b[0m\u001b[0;34m.\u001b[0m\u001b[0mget_loc\u001b[0m\u001b[0;34m(\u001b[0m\u001b[0mcasted_key\u001b[0m\u001b[0;34m)\u001b[0m\u001b[0;34m\u001b[0m\u001b[0;34m\u001b[0m\u001b[0m\n\u001b[0m\u001b[1;32m   3362\u001b[0m             \u001b[0;32mexcept\u001b[0m \u001b[0mKeyError\u001b[0m \u001b[0;32mas\u001b[0m \u001b[0merr\u001b[0m\u001b[0;34m:\u001b[0m\u001b[0;34m\u001b[0m\u001b[0;34m\u001b[0m\u001b[0m\n",
      "\u001b[0;32m~/opt/anaconda3/envs/thesis/lib/python3.7/site-packages/pandas/_libs/index.pyx\u001b[0m in \u001b[0;36mpandas._libs.index.IndexEngine.get_loc\u001b[0;34m()\u001b[0m\n",
      "\u001b[0;32m~/opt/anaconda3/envs/thesis/lib/python3.7/site-packages/pandas/_libs/index.pyx\u001b[0m in \u001b[0;36mpandas._libs.index.IndexEngine.get_loc\u001b[0;34m()\u001b[0m\n",
      "\u001b[0;32mpandas/_libs/hashtable_class_helper.pxi\u001b[0m in \u001b[0;36mpandas._libs.hashtable.PyObjectHashTable.get_item\u001b[0;34m()\u001b[0m\n",
      "\u001b[0;32mpandas/_libs/hashtable_class_helper.pxi\u001b[0m in \u001b[0;36mpandas._libs.hashtable.PyObjectHashTable.get_item\u001b[0;34m()\u001b[0m\n",
      "\u001b[0;31mKeyError\u001b[0m: 'tot__WO_Ghosts_correctedPerc'",
      "\nThe above exception was the direct cause of the following exception:\n",
      "\u001b[0;31mKeyError\u001b[0m                                  Traceback (most recent call last)",
      "\u001b[0;32m/var/folders/fk/p1tbthjd5593xpcsbx71lbvc0000gn/T/ipykernel_55354/2781170138.py\u001b[0m in \u001b[0;36m<module>\u001b[0;34m\u001b[0m\n\u001b[1;32m      8\u001b[0m \u001b[0;31m# Kruskal-Wallis on totPerc v visuals\u001b[0m\u001b[0;34m\u001b[0m\u001b[0;34m\u001b[0m\u001b[0;34m\u001b[0m\u001b[0m\n\u001b[1;32m      9\u001b[0m \u001b[0mprint\u001b[0m\u001b[0;34m(\u001b[0m\u001b[0;34m\"And kw: \"\u001b[0m\u001b[0;34m)\u001b[0m\u001b[0;34m\u001b[0m\u001b[0;34m\u001b[0m\u001b[0m\n\u001b[0;32m---> 10\u001b[0;31m stats.kruskal(df[df['visuals']==vis[0]]['tot__WO_Ghosts_correctedPerc'],\n\u001b[0m\u001b[1;32m     11\u001b[0m                \u001b[0mdf\u001b[0m\u001b[0;34m[\u001b[0m\u001b[0mdf\u001b[0m\u001b[0;34m[\u001b[0m\u001b[0;34m'visuals'\u001b[0m\u001b[0;34m]\u001b[0m\u001b[0;34m==\u001b[0m\u001b[0mvis\u001b[0m\u001b[0;34m[\u001b[0m\u001b[0;36m1\u001b[0m\u001b[0;34m]\u001b[0m\u001b[0;34m]\u001b[0m\u001b[0;34m[\u001b[0m\u001b[0;34m'tot__WO_Ghosts_correctedPerc'\u001b[0m\u001b[0;34m]\u001b[0m\u001b[0;34m,\u001b[0m\u001b[0;34m\u001b[0m\u001b[0;34m\u001b[0m\u001b[0m\n\u001b[1;32m     12\u001b[0m                \u001b[0mdf\u001b[0m\u001b[0;34m[\u001b[0m\u001b[0mdf\u001b[0m\u001b[0;34m[\u001b[0m\u001b[0;34m'visuals'\u001b[0m\u001b[0;34m]\u001b[0m\u001b[0;34m==\u001b[0m\u001b[0mvis\u001b[0m\u001b[0;34m[\u001b[0m\u001b[0;36m2\u001b[0m\u001b[0;34m]\u001b[0m\u001b[0;34m]\u001b[0m\u001b[0;34m[\u001b[0m\u001b[0;34m'tot__WO_Ghosts_correctedPerc'\u001b[0m\u001b[0;34m]\u001b[0m\u001b[0;34m,\u001b[0m\u001b[0;34m\u001b[0m\u001b[0;34m\u001b[0m\u001b[0m\n",
      "\u001b[0;32m~/opt/anaconda3/envs/thesis/lib/python3.7/site-packages/pandas/core/frame.py\u001b[0m in \u001b[0;36m__getitem__\u001b[0;34m(self, key)\u001b[0m\n\u001b[1;32m   3456\u001b[0m             \u001b[0;32mif\u001b[0m \u001b[0mself\u001b[0m\u001b[0;34m.\u001b[0m\u001b[0mcolumns\u001b[0m\u001b[0;34m.\u001b[0m\u001b[0mnlevels\u001b[0m \u001b[0;34m>\u001b[0m \u001b[0;36m1\u001b[0m\u001b[0;34m:\u001b[0m\u001b[0;34m\u001b[0m\u001b[0;34m\u001b[0m\u001b[0m\n\u001b[1;32m   3457\u001b[0m                 \u001b[0;32mreturn\u001b[0m \u001b[0mself\u001b[0m\u001b[0;34m.\u001b[0m\u001b[0m_getitem_multilevel\u001b[0m\u001b[0;34m(\u001b[0m\u001b[0mkey\u001b[0m\u001b[0;34m)\u001b[0m\u001b[0;34m\u001b[0m\u001b[0;34m\u001b[0m\u001b[0m\n\u001b[0;32m-> 3458\u001b[0;31m             \u001b[0mindexer\u001b[0m \u001b[0;34m=\u001b[0m \u001b[0mself\u001b[0m\u001b[0;34m.\u001b[0m\u001b[0mcolumns\u001b[0m\u001b[0;34m.\u001b[0m\u001b[0mget_loc\u001b[0m\u001b[0;34m(\u001b[0m\u001b[0mkey\u001b[0m\u001b[0;34m)\u001b[0m\u001b[0;34m\u001b[0m\u001b[0;34m\u001b[0m\u001b[0m\n\u001b[0m\u001b[1;32m   3459\u001b[0m             \u001b[0;32mif\u001b[0m \u001b[0mis_integer\u001b[0m\u001b[0;34m(\u001b[0m\u001b[0mindexer\u001b[0m\u001b[0;34m)\u001b[0m\u001b[0;34m:\u001b[0m\u001b[0;34m\u001b[0m\u001b[0;34m\u001b[0m\u001b[0m\n\u001b[1;32m   3460\u001b[0m                 \u001b[0mindexer\u001b[0m \u001b[0;34m=\u001b[0m \u001b[0;34m[\u001b[0m\u001b[0mindexer\u001b[0m\u001b[0;34m]\u001b[0m\u001b[0;34m\u001b[0m\u001b[0;34m\u001b[0m\u001b[0m\n",
      "\u001b[0;32m~/opt/anaconda3/envs/thesis/lib/python3.7/site-packages/pandas/core/indexes/base.py\u001b[0m in \u001b[0;36mget_loc\u001b[0;34m(self, key, method, tolerance)\u001b[0m\n\u001b[1;32m   3361\u001b[0m                 \u001b[0;32mreturn\u001b[0m \u001b[0mself\u001b[0m\u001b[0;34m.\u001b[0m\u001b[0m_engine\u001b[0m\u001b[0;34m.\u001b[0m\u001b[0mget_loc\u001b[0m\u001b[0;34m(\u001b[0m\u001b[0mcasted_key\u001b[0m\u001b[0;34m)\u001b[0m\u001b[0;34m\u001b[0m\u001b[0;34m\u001b[0m\u001b[0m\n\u001b[1;32m   3362\u001b[0m             \u001b[0;32mexcept\u001b[0m \u001b[0mKeyError\u001b[0m \u001b[0;32mas\u001b[0m \u001b[0merr\u001b[0m\u001b[0;34m:\u001b[0m\u001b[0;34m\u001b[0m\u001b[0;34m\u001b[0m\u001b[0m\n\u001b[0;32m-> 3363\u001b[0;31m                 \u001b[0;32mraise\u001b[0m \u001b[0mKeyError\u001b[0m\u001b[0;34m(\u001b[0m\u001b[0mkey\u001b[0m\u001b[0;34m)\u001b[0m \u001b[0;32mfrom\u001b[0m \u001b[0merr\u001b[0m\u001b[0;34m\u001b[0m\u001b[0;34m\u001b[0m\u001b[0m\n\u001b[0m\u001b[1;32m   3364\u001b[0m \u001b[0;34m\u001b[0m\u001b[0m\n\u001b[1;32m   3365\u001b[0m         \u001b[0;32mif\u001b[0m \u001b[0mis_scalar\u001b[0m\u001b[0;34m(\u001b[0m\u001b[0mkey\u001b[0m\u001b[0;34m)\u001b[0m \u001b[0;32mand\u001b[0m \u001b[0misna\u001b[0m\u001b[0;34m(\u001b[0m\u001b[0mkey\u001b[0m\u001b[0;34m)\u001b[0m \u001b[0;32mand\u001b[0m \u001b[0;32mnot\u001b[0m \u001b[0mself\u001b[0m\u001b[0;34m.\u001b[0m\u001b[0mhasnans\u001b[0m\u001b[0;34m:\u001b[0m\u001b[0;34m\u001b[0m\u001b[0;34m\u001b[0m\u001b[0m\n",
      "\u001b[0;31mKeyError\u001b[0m: 'tot__WO_Ghosts_correctedPerc'"
     ]
    }
   ],
   "source": [
    "# Part One: \n",
    "vis = sorted(df['visuals'].unique())\n",
    "print(vis)\n",
    "df = likertSlim.copy()\n",
    "# df = likertSlim[likertSlim['difficulty']==\"Easy\"].copy()\n",
    "# df = likertSlim[likertSlim['difficulty']==\"Difficult\"].copy()\n",
    "\n",
    "# Kruskal-Wallis on totPerc v visuals\n",
    "print(\"And kw: \")\n",
    "stats.kruskal(df[df['visuals']==vis[0]]['tot__WO_Ghosts_correctedPerc'],\n",
    "               df[df['visuals']==vis[1]]['tot__WO_Ghosts_correctedPerc'],\n",
    "               df[df['visuals']==vis[2]]['tot__WO_Ghosts_correctedPerc'],\n",
    "               df[df['visuals']==vis[3]]['tot__WO_Ghosts_correctedPerc'])\n"
   ]
  },
  {
   "cell_type": "code",
   "execution_count": 16,
   "metadata": {},
   "outputs": [
    {
     "name": "stdout",
     "output_type": "stream",
     "text": [
      "['Blur+Charts', 'Blurred', 'Charts', 'Video']\n",
      "And kw: \n"
     ]
    },
    {
     "data": {
      "text/plain": [
       "KruskalResult(statistic=52.777066540925404, pvalue=2.045385095366996e-11)"
      ]
     },
     "execution_count": 16,
     "metadata": {},
     "output_type": "execute_result"
    }
   ],
   "source": [
    "# Part One: \n",
    "vis = sorted(df['visuals'].unique())\n",
    "print(vis)\n",
    "df = likertSlim.copy()\n",
    "# df = likertSlim[likertSlim['difficulty']==\"Easy\"].copy()\n",
    "# df = likertSlim[likertSlim['difficulty']==\"Difficult\"].copy()\n",
    "\n",
    "# Kruskal-Wallis on totPerc v visuals\n",
    "print(\"And kw: \")\n",
    "stats.kruskal(df[df['visuals']==vis[0]]['tot_correctedPerc'],\n",
    "               df[df['visuals']==vis[1]]['tot_correctedPerc'],\n",
    "               df[df['visuals']==vis[2]]['tot_correctedPerc'],\n",
    "               df[df['visuals']==vis[3]]['tot_correctedPerc'])\n"
   ]
  },
  {
   "cell_type": "code",
   "execution_count": 17,
   "metadata": {},
   "outputs": [
    {
     "name": "stdout",
     "output_type": "stream",
     "text": [
      "And kw: \n"
     ]
    },
    {
     "data": {
      "text/plain": [
       "KruskalResult(statistic=17.82903458991321, pvalue=0.000477041685861493)"
      ]
     },
     "execution_count": 17,
     "metadata": {},
     "output_type": "execute_result"
    }
   ],
   "source": [
    "# Part One: \n",
    "\n",
    "# df = likertSlim.copy()\n",
    "df = likertSlim[likertSlim['difficulty']==\"Easy\"].copy()\n",
    "# df = likertSlim[likertSlim['difficulty']==\"Difficult\"].copy()\n",
    "\n",
    "# Kruskal-Wallis on totPerc v visuals\n",
    "print(\"And kw: \")\n",
    "stats.kruskal(df[df['visuals']==vis[0]]['totPerc'],\n",
    "               df[df['visuals']==vis[1]]['totPerc'],\n",
    "               df[df['visuals']==vis[2]]['totPerc'],\n",
    "               df[df['visuals']==vis[3]]['totPerc'])\n",
    "\n",
    "\n"
   ]
  },
  {
   "cell_type": "code",
   "execution_count": 18,
   "metadata": {},
   "outputs": [
    {
     "name": "stdout",
     "output_type": "stream",
     "text": [
      "And kw: \n"
     ]
    },
    {
     "data": {
      "text/plain": [
       "KruskalResult(statistic=9.985979994384888, pvalue=0.018685687361040378)"
      ]
     },
     "execution_count": 18,
     "metadata": {},
     "output_type": "execute_result"
    }
   ],
   "source": [
    "# Part One: \n",
    "\n",
    "# df = likertSlim.copy()\n",
    "df = likertSlim[likertSlim['difficulty']==\"Easy\"].copy()\n",
    "# df = likertSlim[likertSlim['difficulty']==\"Difficult\"].copy()\n",
    "\n",
    "# Kruskal-Wallis on totPerc v visuals\n",
    "print(\"And kw: \")\n",
    "stats.kruskal(df[df['visuals']==vis[0]]['tot_correctedPerc'],\n",
    "               df[df['visuals']==vis[1]]['tot_correctedPerc'],\n",
    "               df[df['visuals']==vis[2]]['tot_correctedPerc'],\n",
    "               df[df['visuals']==vis[3]]['tot_correctedPerc'])\n",
    "\n",
    "\n",
    "\n"
   ]
  },
  {
   "cell_type": "code",
   "execution_count": 19,
   "metadata": {},
   "outputs": [
    {
     "name": "stdout",
     "output_type": "stream",
     "text": [
      "And kw: \n"
     ]
    },
    {
     "data": {
      "text/plain": [
       "KruskalResult(statistic=42.570699621983735, pvalue=3.0356371753057677e-09)"
      ]
     },
     "execution_count": 19,
     "metadata": {},
     "output_type": "execute_result"
    }
   ],
   "source": [
    "# Part One: \n",
    "\n",
    "# df = likertSlim.copy()\n",
    "# df = likertSlim[likertSlim['difficulty']==\"Easy\"].copy()\n",
    "df = likertSlim[likertSlim['difficulty']==\"Difficult\"].copy()\n",
    "\n",
    "# Kruskal-Wallis on totPerc v visuals\n",
    "print(\"And kw: \")\n",
    "stats.kruskal(df[df['visuals']==vis[0]]['totPerc'],\n",
    "               df[df['visuals']==vis[1]]['totPerc'],\n",
    "               df[df['visuals']==vis[2]]['totPerc'],\n",
    "               df[df['visuals']==vis[3]]['totPerc'])\n",
    "\n",
    "\n"
   ]
  },
  {
   "cell_type": "code",
   "execution_count": 20,
   "metadata": {},
   "outputs": [
    {
     "name": "stdout",
     "output_type": "stream",
     "text": [
      "And kw: \n"
     ]
    },
    {
     "data": {
      "text/plain": [
       "KruskalResult(statistic=43.21753323838556, pvalue=2.2127042123237364e-09)"
      ]
     },
     "execution_count": 20,
     "metadata": {},
     "output_type": "execute_result"
    }
   ],
   "source": [
    "# Part One: \n",
    "\n",
    "# df = likertSlim.copy()\n",
    "# df = likertSlim[likertSlim['difficulty']==\"Easy\"].copy()\n",
    "df = likertSlim[likertSlim['difficulty']==\"Difficult\"].copy()\n",
    "\n",
    "# Kruskal-Wallis on totPerc v visuals\n",
    "print(\"And kw: \")\n",
    "stats.kruskal(df[df['visuals']==vis[0]]['tot_correctedPerc'],\n",
    "               df[df['visuals']==vis[1]]['tot_correctedPerc'],\n",
    "               df[df['visuals']==vis[2]]['tot_correctedPerc'],\n",
    "               df[df['visuals']==vis[3]]['tot_correctedPerc'])\n",
    "\n",
    "\n",
    "\n"
   ]
  },
  {
   "cell_type": "code",
   "execution_count": 21,
   "metadata": {},
   "outputs": [
    {
     "name": "stdout",
     "output_type": "stream",
     "text": [
      "Blur+Charts\n",
      "24.821428571428577\n",
      "13.376665697593896\n",
      "\n",
      "Blurred\n",
      "16.484126984126984\n",
      "10.027427562986242\n",
      "\n",
      "Charts\n",
      "42.07488479262673\n",
      "14.292963502491839\n",
      "\n",
      "Video\n",
      "21.232804232804234\n",
      "12.940504974396605\n",
      "\n"
     ]
    }
   ],
   "source": [
    "# Mean and STD of totPerc after correction for guessing... \n",
    "\n",
    "for v in vis:\n",
    "    tmp = df[df['visuals']==v]\n",
    "    print(v)\n",
    "    print(tmp['tot_correctedPerc'].mean())\n",
    "    print(tmp['tot_correctedPerc'].std())\n",
    "    print()"
   ]
  },
  {
   "cell_type": "code",
   "execution_count": 22,
   "metadata": {},
   "outputs": [
    {
     "name": "stdout",
     "output_type": "stream",
     "text": [
      "\n",
      " Qs1_Corrected\n",
      "24.78410421545668\n",
      "18.2210407185097\n",
      "\n",
      " Qs2_Corrected\n",
      "24.929742388758783\n",
      "18.55438959543301\n",
      "\n",
      " 1_2_correctedPerc\n",
      "24.85692330210773\n",
      "15.62050865045431\n",
      "\n",
      " comp_correctedPerc\n",
      "30.327868852459016\n",
      "36.11127033223079\n",
      "\n",
      " tot_correctedPerc\n",
      "25.95111241217798\n",
      "15.942963014286152\n"
     ]
    }
   ],
   "source": [
    "print(\"\\n Qs1_Corrected\")\n",
    "print(df['Qs1_CorrectedPerc'].mean())\n",
    "print(df['Qs1_CorrectedPerc'].std())\n",
    "\n",
    "print(\"\\n Qs2_Corrected\")\n",
    "print(df['Qs2_CorrectedPerc'].mean())\n",
    "print(df['Qs2_CorrectedPerc'].std())\n",
    "\n",
    "print(\"\\n 1_2_correctedPerc\")\n",
    "print(df['1_2_correctedPerc'].mean())\n",
    "print(df['1_2_correctedPerc'].std())\n",
    "\n",
    "print(\"\\n comp_correctedPerc\")\n",
    "print(df['comp_correctedPerc'].mean())\n",
    "print(df['comp_correctedPerc'].std())\n",
    "\n",
    "print(\"\\n tot_correctedPerc\")\n",
    "print(df['tot_correctedPerc'].mean())\n",
    "print(df['tot_correctedPerc'].std())\n",
    "\n",
    "\n"
   ]
  },
  {
   "cell_type": "code",
   "execution_count": null,
   "metadata": {},
   "outputs": [],
   "source": []
  },
  {
   "cell_type": "code",
   "execution_count": null,
   "metadata": {},
   "outputs": [],
   "source": []
  }
 ],
 "metadata": {
  "kernelspec": {
   "display_name": "thesis",
   "language": "python",
   "name": "thesis"
  },
  "language_info": {
   "codemirror_mode": {
    "name": "ipython",
    "version": 3
   },
   "file_extension": ".py",
   "mimetype": "text/x-python",
   "name": "python",
   "nbconvert_exporter": "python",
   "pygments_lexer": "ipython3",
   "version": "3.7.12"
  }
 },
 "nbformat": 4,
 "nbformat_minor": 4
}
