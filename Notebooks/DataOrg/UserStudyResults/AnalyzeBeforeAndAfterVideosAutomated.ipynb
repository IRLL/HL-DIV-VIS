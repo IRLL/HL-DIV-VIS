{
 "cells": [
  {
   "cell_type": "code",
   "execution_count": 1,
   "metadata": {},
   "outputs": [],
   "source": [
    "import pandas as pd\n",
    "import seaborn as sns\n",
    "import matplotlib.pyplot as plt\n",
    "import numpy as np\n",
    "import pyarrow as pa\n",
    "import pyarrow.parquet as pq\n",
    "import os\n",
    "import random\n",
    "import matrixprofile as mp\n",
    "import matplotlib.gridspec as gridspec\n",
    "from sklearn import preprocessing\n",
    "import matplotlib.patches as mpatches\n",
    "import matplotlib.cm as cm\n",
    "import statistics\n",
    "from collections import Counter\n",
    "import pyarrow as pa\n",
    "import pyarrow.parquet as pq\n",
    "import os\n",
    "from collections import OrderedDict\n",
    "import scipy.stats as stats\n",
    "import statsmodels.api as sm\n",
    "from statsmodels.formula.api import ols\n",
    "import statsmodels.stats.multicomp as mc\n",
    "from statsmodels.stats.multicomp import pairwise_tukeyhsd\n",
    "from sklearn.linear_model import LinearRegression\n",
    "from sklearn.preprocessing import PolynomialFeatures\n",
    "import scipy.stats.distributions as dist\n",
    "from scipy.stats import wilcoxon\n",
    "sns.set_style(\"whitegrid\")"
   ]
  },
  {
   "cell_type": "code",
   "execution_count": 2,
   "metadata": {},
   "outputs": [],
   "source": [
    "# Tests chosen using diagrams from here: https://www.youtube.com/watch?v=rulIUAN0U3w\n",
    "# and here: https://help.xlstat.com/s/article/which-statistical-test-should-you-use?language=en_US"
   ]
  },
  {
   "cell_type": "code",
   "execution_count": 3,
   "metadata": {},
   "outputs": [],
   "source": [
    "# Videos Automated on v68"
   ]
  },
  {
   "cell_type": "code",
   "execution_count": 4,
   "metadata": {},
   "outputs": [],
   "source": [
    "tempTopDir = '/Volumes/Britt_SSD/ReDoEvals3/UserStudy/'\n",
    "filePath = os.path.join(tempTopDir, 'GP_Main.parquet')"
   ]
  },
  {
   "cell_type": "code",
   "execution_count": 5,
   "metadata": {},
   "outputs": [
    {
     "name": "stdout",
     "output_type": "stream",
     "text": [
      "232\n"
     ]
    }
   ],
   "source": [
    "taskDF = pd.read_parquet(filePath)\n",
    "taskDF['ParticipantNum'] = taskDF[\"ParticipantPrivateID\"]\n",
    "taskDF = taskDF.astype({\"ParticipantPrivateID\": str})\n",
    "filePath = os.path.join(tempTopDir, 'likertSlim.parquet')\n",
    "likertSlim = pd.read_parquet(filePath)\n",
    "\n",
    "print(len(likertSlim['ParticipantPublicID'].unique()))"
   ]
  },
  {
   "cell_type": "code",
   "execution_count": 390,
   "metadata": {
    "scrolled": false
   },
   "outputs": [
    {
     "name": "stdout",
     "output_type": "stream",
     "text": [
      "[60. 62. 64. 65. 67. 70. 72. 73. 76. 77.]\n",
      "['APPROVED']\n",
      "232\n"
     ]
    }
   ],
   "source": [
    "\n",
    "thisDF = likertSlim.copy()\n",
    "# drop particpants who have not been accepted (rejected or timed out)\n",
    "# options: approved, awaiting review,rejected, returned, timed-out\n",
    "print(thisDF.ExperimentVersion.unique())\n",
    "print(thisDF.status.unique())\n",
    "# get names of indexes for which to drop\n",
    "# pID_removed1 = thisDF[(thisDF['status']=='REJECTED') | \n",
    "#                       (thisDF['status']=='RETURNED')].ParticipantPublicID.unique()\n",
    "pID_removed1 = thisDF[(thisDF['status']!='APPROVED')].ParticipantPublicID.unique()\n",
    "pID_removed2 = thisDF[(thisDF['status']=='RETURNED')].ParticipantPublicID.unique()\n",
    "index_names = thisDF[(thisDF['status']!='AWAITING REVIEW') & (thisDF['status']!='APPROVED')].index\n",
    "likertSlim = likertSlim[~likertSlim['ParticipantPublicID'].isin(pID_removed1)].copy()\n",
    "  \n",
    "# drop these given row\n",
    "# indexes from dataFrame\n",
    "# thisDF = thisDF[~thisDF['ParticipantPublicID'].isin(pID_removed2)].copy()\n",
    "# tmp_thisDF = thisDF[~thisDF['ParticipantPublicID'].isin(pID_removed1)].copy()\n",
    "# print(tmp_thisDF.status.unique())\n",
    "# print(pID_removed1)\n",
    "\n",
    "tmp_taskDF = taskDF[~taskDF['ParticipantPublicID'].isin(pID_removed1)].copy()\n",
    "\n",
    "# print(tmp_taskDF[tmp_taskDF['ParticipantPublicID']==pID_removed1[-3]])\n",
    "print(len(likertSlim))\n",
    "# earlyV = likertSlim.query('ExperimentVersion<68')\n",
    "# print(len(earlyV))\n",
    "# lateV = likertSlim.query('ExperimentVersion>=68')\n",
    "# print(len(lateV))"
   ]
  },
  {
   "cell_type": "code",
   "execution_count": 391,
   "metadata": {},
   "outputs": [],
   "source": [
    "#################################################################\n",
    "#################################################################\n",
    "#################################################################\n",
    "#################################################################\n",
    "##################Create a set of DFs ###########################\n",
    "#################################################################\n",
    "#################################################################\n",
    "#################################################################\n",
    "#################################################################"
   ]
  },
  {
   "cell_type": "code",
   "execution_count": 392,
   "metadata": {},
   "outputs": [
    {
     "name": "stdout",
     "output_type": "stream",
     "text": [
      "['Missed2' None 'Y' 'YES - DO NOT PAY' 'ShortWritten' 'YES: PAID HALF'\n",
      " 'Missed1' 'Y ']\n",
      "207\n"
     ]
    }
   ],
   "source": [
    "# What if we drop those who missed 2 or more atn checks?\n",
    "\n",
    "thisDF = likertSlim.copy()\n",
    "\n",
    "print(thisDF.Suspicious.unique())\n",
    "paidAttn = thisDF.query('Suspicious != \"Missed2\"')\n",
    "NotPaidAttn = thisDF.query('Suspicious == \"Missed2\"')\n",
    "\n",
    "print(len(paidAttn))"
   ]
  },
  {
   "cell_type": "code",
   "execution_count": 393,
   "metadata": {},
   "outputs": [
    {
     "name": "stderr",
     "output_type": "stream",
     "text": [
      "/usr/local/anaconda3/lib/python3.7/site-packages/seaborn/_decorators.py:43: FutureWarning: Pass the following variables as keyword args: x, y. From version 0.12, the only valid positional argument will be `data`, and passing other arguments without an explicit keyword will result in an error or misinterpretation.\n",
      "  FutureWarning\n",
      "/usr/local/anaconda3/lib/python3.7/site-packages/seaborn/_decorators.py:43: FutureWarning: Pass the following variables as keyword args: x, y. From version 0.12, the only valid positional argument will be `data`, and passing other arguments without an explicit keyword will result in an error or misinterpretation.\n",
      "  FutureWarning\n"
     ]
    },
    {
     "data": {
      "text/plain": [
       "<AxesSubplot:xlabel='ExperimentVersion', ylabel='tot2Perc'>"
      ]
     },
     "execution_count": 393,
     "metadata": {},
     "output_type": "execute_result"
    },
    {
     "data": {
      "image/png": "[encoded data removed]",
      "text/plain": [
       "<Figure size 432x288 with 1 Axes>"
      ]
     },
     "metadata": {},
     "output_type": "display_data"
    }
   ],
   "source": [
    "sns.pointplot('ExperimentVersion', 'vidPlayed', data=likertSlim)\n",
    "sns.pointplot('ExperimentVersion', 'tot2Perc', data=likertSlim, color='r')"
   ]
  },
  {
   "cell_type": "code",
   "execution_count": 394,
   "metadata": {},
   "outputs": [
    {
     "name": "stdout",
     "output_type": "stream",
     "text": [
      "   totPerc  tot1Perc  tot2Perc  ExperimentVersion\n",
      "0     25.0      25.0      25.0               60.0\n",
      "1      5.0       0.0      12.5               60.0\n",
      "2     25.0      37.5      25.0               60.0\n",
      "3     40.0      25.0      37.5               62.0\n",
      "4     10.0       0.0       0.0               64.0\n",
      "5     60.0      50.0      75.0               65.0\n"
     ]
    }
   ],
   "source": [
    "print(likertSlim[likertSlim['ExperimentVersion']<66.0][['totPerc','tot1Perc','tot2Perc','ExperimentVersion']])"
   ]
  },
  {
   "cell_type": "code",
   "execution_count": 395,
   "metadata": {},
   "outputs": [
    {
     "name": "stdout",
     "output_type": "stream",
     "text": [
      "Ttest_indResult(statistic=-0.06141578780355841, pvalue=0.9510814139954546)\n",
      "Ttest_indResult(statistic=0.6060407872977114, pvalue=0.5450853000735092)\n",
      "Ttest_indResult(statistic=0.5543433644929789, pvalue=0.5798824800240086)\n",
      "Ttest_indResult(statistic=0.7023964611554343, pvalue=0.4831421956920484)\n",
      "Ttest_indResult(statistic=-0.10337092802554572, pvalue=0.9177933614742206)\n",
      "Ttest_indResult(statistic=-0.19822579564206397, pvalue=0.8430054019167396)\n"
     ]
    }
   ],
   "source": [
    "print(stats.ttest_ind(earlyV['totPerc'],lateV['totPerc']))\n",
    "print(stats.ttest_ind(earlyV['tot1Perc'],lateV['tot1Perc']))\n",
    "print(stats.ttest_ind(earlyV['tot2Perc'],lateV['tot2Perc']))\n",
    "print(stats.ttest_ind(earlyV['agTotPerc'],lateV['agTotPerc']))\n",
    "\n",
    "print(stats.ttest_ind(earlyV['tot1Perc'],earlyV['tot2Perc']))\n",
    "\n",
    "print(stats.ttest_ind(lateV['tot1Perc'],lateV['tot2Perc']))"
   ]
  },
  {
   "cell_type": "code",
   "execution_count": 396,
   "metadata": {},
   "outputs": [
    {
     "name": "stdout",
     "output_type": "stream",
     "text": [
      "Ttest_indResult(statistic=-0.37502535656143887, pvalue=0.7079871954174304)\n"
     ]
    }
   ],
   "source": [
    "print(stats.ttest_ind(earlyV['ratioVidPlaysToAvg'],lateV['ratioVidPlaysToAvg']))"
   ]
  },
  {
   "cell_type": "code",
   "execution_count": 397,
   "metadata": {},
   "outputs": [
    {
     "name": "stdout",
     "output_type": "stream",
     "text": [
      "75676\n",
      "19138\n",
      "56538\n"
     ]
    }
   ],
   "source": [
    "print(len(tmp_taskDF))\n",
    "\n",
    "taskE = taskDF[taskDF['ExperimentVersion']<68.0]\n",
    "print(len(taskE))\n",
    "taskL = taskDF[taskDF['ExperimentVersion']>=68.0]\n",
    "print(len(taskL))"
   ]
  },
  {
   "cell_type": "code",
   "execution_count": 398,
   "metadata": {
    "scrolled": false
   },
   "outputs": [
    {
     "name": "stderr",
     "output_type": "stream",
     "text": [
      "/usr/local/anaconda3/lib/python3.7/site-packages/ipykernel_launcher.py:22: SettingWithCopyWarning: \n",
      "A value is trying to be set on a copy of a slice from a DataFrame.\n",
      "Try using .loc[row_indexer,col_indexer] = value instead\n",
      "\n",
      "See the caveats in the documentation: https://pandas.pydata.org/pandas-docs/stable/user_guide/indexing.html#returning-a-view-versus-a-copy\n",
      "/usr/local/anaconda3/lib/python3.7/site-packages/ipykernel_launcher.py:25: SettingWithCopyWarning: \n",
      "A value is trying to be set on a copy of a slice from a DataFrame.\n",
      "Try using .loc[row_indexer,col_indexer] = value instead\n",
      "\n",
      "See the caveats in the documentation: https://pandas.pydata.org/pandas-docs/stable/user_guide/indexing.html#returning-a-view-versus-a-copy\n"
     ]
    }
   ],
   "source": [
    "# # print(taskE.Response.unique())\n",
    "# tmp_taskDF['vidPlayed'] = np.where(tmp_taskDF['Response']==\"VIDEO PLAYING EVENT FIRED\", 1,\n",
    "#                              np.where(tmp_taskDF['Response']==\"ADJUSTED START TIME based on TIMEUPDATE EVENT\", 1,0))\n",
    "\n",
    "# taskE['vidPlayed'] = np.where(taskE['Response']==\"VIDEO PLAYING EVENT FIRED\", 1,\n",
    "#                              np.where(taskE['Response']==\"ADJUSTED START TIME based on TIMEUPDATE EVENT\", 1,0))\n",
    "\n",
    "\n",
    "# taskL['vidPlayed'] = np.where(taskL['Response']==\"VIDEO PLAYING EVENT FIRED\", 1,\n",
    "#                              np.where(taskL['Response']==\"ADJUSTED START TIME based on TIMEUPDATE EVENT\", 1,0))\n",
    "\n",
    "\n",
    "# # taskE_grouped = taskE[taskE['vidPlayed']==1].groupby(['ParticipantPublicID','AgentNum']).sum()\n",
    "# # taskE_grouped = taskE[taskE['vidPlayed']==1].groupby(['ParticipantPublicID']).sum()\n",
    "# # print(taskE_grouped[['vidPlayed']])\n",
    "\n",
    "\n",
    "\n",
    "# print(taskE.Response.unique())\n",
    "tmp_taskDF['vidPlayed'] = np.where(tmp_taskDF['Response']==\"VIDEO PLAYING EVENT FIRED\", 1,0)\n",
    "\n",
    "taskE['vidPlayed'] = np.where(taskE['Response']==\"VIDEO PLAYING EVENT FIRED\", 1,0)\n",
    "\n",
    "\n",
    "taskL['vidPlayed'] = np.where(taskL['Response']==\"VIDEO PLAYING EVENT FIRED\", 1,0)"
   ]
  },
  {
   "cell_type": "code",
   "execution_count": 399,
   "metadata": {},
   "outputs": [
    {
     "name": "stderr",
     "output_type": "stream",
     "text": [
      "/usr/local/anaconda3/lib/python3.7/site-packages/seaborn/_decorators.py:43: FutureWarning: Pass the following variables as keyword args: x, y. From version 0.12, the only valid positional argument will be `data`, and passing other arguments without an explicit keyword will result in an error or misinterpretation.\n",
      "  FutureWarning\n",
      "/usr/local/anaconda3/lib/python3.7/site-packages/seaborn/_decorators.py:43: FutureWarning: Pass the following variables as keyword args: x, y. From version 0.12, the only valid positional argument will be `data`, and passing other arguments without an explicit keyword will result in an error or misinterpretation.\n",
      "  FutureWarning\n"
     ]
    },
    {
     "data": {
      "text/plain": [
       "<AxesSubplot:xlabel='AgentNum', ylabel='vidPlayed'>"
      ]
     },
     "execution_count": 399,
     "metadata": {},
     "output_type": "execute_result"
    },
    {
     "data": {
      "image/png": "[encoded data removed]",
      "text/plain": [
       "<Figure size 432x288 with 1 Axes>"
      ]
     },
     "metadata": {},
     "output_type": "display_data"
    }
   ],
   "source": [
    "sns.pointplot('AgentNum','vidPlayed',data=taskE)\n",
    "sns.pointplot('AgentNum','vidPlayed',data=taskL, color='r')"
   ]
  },
  {
   "cell_type": "code",
   "execution_count": 401,
   "metadata": {},
   "outputs": [
    {
     "name": "stdout",
     "output_type": "stream",
     "text": [
      "[60. 62. 64. 65. 67. 70. 72. 73. 76. 77.]\n",
      "['ParticipantPrivateID', 'difficulty', 'visuals', 'agents', 'QsTotal', 'QsCorrect', 'Agent_QsTotal', 'Agent_QsCorrect', 'Agent_QsWO_GhostsTotal', 'Agent_QsWO_GhostsCorrect', 'Qs1_Correct', 'Qs2_Correct', 'QsPart_Total', 'predictionsCorrect', 'predictionsTotal', 'predictions1Correct', 'predictions2Correct', 'predictionsHalfTotal', 'regionsCorrect', 'regionsTotal', 'regions1Correct', 'regions2Correct', 'regionsHalfTotal', 'levelCorrect', 'levelTotal', 'level1Correct', 'level2Correct', 'levelHalfTotal', 'ghostsCorrect', 'ghostsTotal', 'ghosts1Correct', 'ghosts2Correct', 'ghostsHalfTotal', 'comparisonsCorrect', 'comparisonsTotal', 'timeTakenMain_All', 'timeTakenMain_AgentsOnly', 'timeTaken_Consent', 'timeTaken_Demographics', 'timeTaken_AI', 'timeTaken_Agent1', 'timeTaken_Agent2', 'timeTaken_Agent3', 'time_TOTAL', 'vidPlayed', 'avgVidPlays', 'ratioVidPlaysToAvg', 'ExperimentVersion_x', 'totPerc', 'agTotPerc', 'tot1Perc', 'tot2Perc', 'Agent_QsWO_GhostsPerc', 'predPerc', 'pred1Perc', 'pred2Perc', 'regPerc', 'reg1Perc', 'reg2Perc', 'lvlPerc', 'lvl1Perc', 'lvl2Perc', 'ghostPerc', 'ghost1Perc', 'ghost2Perc', 'compPerc', 'TreeNodeKey_x', 'age_info', 'age_info_text', 'age_info_quantised', 'gender_id', 'gender_id_text', 'gender_id_quantised', 'education_level', 'education_level_text', 'education_level_quantised', 'ExperimentVersion', 'ParticipantPublicID', 'ai_involvement_1', 'ai_involvement_2', 'ai_involvement_3', 'ai_involvement_4', 'ai_involvement_5', 'ai_involvement_6', 'ai_involvement_text', 'ai_involvement_other', 'ai_opinion', 'ai_opinion_quantised', 'AI_longForm', 'pacman_experience', 'pacman_experience_text', 'pacman_experience_quantised', 'ProlificName', 'status', 'age', 'num_approvals', 'num_rejections', 'prolific_score', 'Country of Birth', 'Current Country of Residence', 'Employment Status', 'First Language', 'Fluent languages', 'Gender identity', 'Nationality', 'Sex', 'Student Status', 'Suspicious', 'AmtPaid', 'Notes', 'Quality Rating(1-10)', 'Part1', 'Part2', 'Part3', 'MediaAI', 'HomeAI', 'AtWorkAI', 'ClassOnAI', 'DevelopAI', 'NoneAI', 'OtherAI', 'blurring_helpful_1', 'blurring_helpful_2', 'charts_helpful_1', 'charts_helpful_2', 'info_sufficient_1', 'info_sufficient_2', 'irrelevant_distracting_1', 'irrelevant_distracting_2', 'scenarios_helpful_1', 'scenarios_helpful_2', 'likertMode', 'likert1Mode', 'likert2Mode', '17.0_Z', '18.0_Z', '19.0_Z', '20.0_Z', 'blurring_helpful_1_Z', 'blurring_helpful_2_Z', 'info_sufficient_1_Z', 'info_sufficient_2_Z', 'scenarios_helpful_1_Z', 'scenarios_helpful_2_Z', 'Q17_Response', 'Q17_Correct', 'Q18_Response', 'Q18_Correct', 'Q19_Response', 'Q19_Correct', 'Q20_Response', 'Q20_Correct', 'CompCorrectSum', 'CompResponseMode']\n"
     ]
    }
   ],
   "source": [
    "print(likertSlim.ExperimentVersion.unique())\n",
    "print(likertSlim.columns.tolist())"
   ]
  },
  {
   "cell_type": "code",
   "execution_count": 430,
   "metadata": {},
   "outputs": [
    {
     "name": "stdout",
     "output_type": "stream",
     "text": [
      "                                   vidPlayed\n",
      "ParticipantPublicID      AgentNum           \n",
      "55bac673fdf99b554657f2d6 0.0               1\n",
      "                         1.0              12\n",
      "                         2.0              12\n",
      "                         3.0              32\n",
      "55cf7e8b34e906000ee56498 0.0               1\n",
      "...                                      ...\n",
      "60509f75486b1b5858d5f6dd 3.0              35\n",
      "6050de36565b8a6c1bd30772 0.0               1\n",
      "                         1.0              18\n",
      "                         2.0              16\n",
      "                         3.0              34\n",
      "\n",
      "[930 rows x 1 columns]\n",
      "                         vidPlayed                  \n",
      "AgentNum                       0.0   1.0   2.0   3.0\n",
      "ParticipantPublicID                                 \n",
      "55bac673fdf99b554657f2d6       1.0  12.0  12.0  32.0\n",
      "55cf7e8b34e906000ee56498       1.0   5.0   4.0   0.0\n",
      "56db8f127dcddf000dd592af       1.0  23.0  13.0  56.0\n",
      "572f1c1d3c27e7000f0b31aa       NaN  14.0  14.0  34.0\n",
      "596e1edd39e9d00001b7bb98       1.0  34.0  25.0  32.0\n",
      "...                            ...   ...   ...   ...\n",
      "6047d69bec826c0ae8a00b30       1.0  26.0  17.0  40.0\n",
      "604a58fc3a2b7de19e8c5104       NaN  15.0  12.0  34.0\n",
      "604b528b95d6d998726f0bd9       NaN  33.0  20.0  41.0\n",
      "60509f75486b1b5858d5f6dd       1.0  15.0  15.0  35.0\n",
      "6050de36565b8a6c1bd30772       1.0  18.0  16.0  34.0\n",
      "\n",
      "[245 rows x 4 columns]\n",
      "                         vidPlayed                              \n",
      "AgentNum                 P0_played P1_played P2_played P3_played\n",
      "ParticipantPublicID                                             \n",
      "55bac673fdf99b554657f2d6       1.0      12.0      12.0      32.0\n",
      "55cf7e8b34e906000ee56498       1.0       5.0       4.0       0.0\n",
      "56db8f127dcddf000dd592af       1.0      23.0      13.0      56.0\n",
      "572f1c1d3c27e7000f0b31aa       NaN      14.0      14.0      34.0\n",
      "596e1edd39e9d00001b7bb98       1.0      34.0      25.0      32.0\n",
      "...                            ...       ...       ...       ...\n",
      "6047d69bec826c0ae8a00b30       1.0      26.0      17.0      40.0\n",
      "604a58fc3a2b7de19e8c5104       NaN      15.0      12.0      34.0\n",
      "604b528b95d6d998726f0bd9       NaN      33.0      20.0      41.0\n",
      "60509f75486b1b5858d5f6dd       1.0      15.0      15.0      35.0\n",
      "6050de36565b8a6c1bd30772       1.0      18.0      16.0      34.0\n",
      "\n",
      "[245 rows x 4 columns]\n",
      "AgentNum                  P0_played  P1_played  P2_played  P3_played\n",
      "ParticipantPublicID                                                 \n",
      "55bac673fdf99b554657f2d6        1.0       12.0       12.0       32.0\n",
      "55cf7e8b34e906000ee56498        1.0        5.0        4.0        0.0\n",
      "56db8f127dcddf000dd592af        1.0       23.0       13.0       56.0\n",
      "572f1c1d3c27e7000f0b31aa        NaN       14.0       14.0       34.0\n",
      "596e1edd39e9d00001b7bb98        1.0       34.0       25.0       32.0\n",
      "...                             ...        ...        ...        ...\n",
      "6047d69bec826c0ae8a00b30        1.0       26.0       17.0       40.0\n",
      "604a58fc3a2b7de19e8c5104        NaN       15.0       12.0       34.0\n",
      "604b528b95d6d998726f0bd9        NaN       33.0       20.0       41.0\n",
      "60509f75486b1b5858d5f6dd        1.0       15.0       15.0       35.0\n",
      "6050de36565b8a6c1bd30772        1.0       18.0       16.0       34.0\n",
      "\n",
      "[245 rows x 4 columns]\n",
      "    ParticipantPrivateID difficulty        visuals   agents  QsTotal  \\\n",
      "0              3109877.0  Difficult  Blur_Plus_Vis  300_700       20   \n",
      "1              3109883.0       Easy        Visuals   23_700       20   \n",
      "2              3109878.0       Easy        Blurred   700_23       20   \n",
      "3              3135747.0  Difficult  Blur_Plus_Vis  700_300       20   \n",
      "4              3160810.0  Difficult  Blur_Plus_Vis  s23_p23       20   \n",
      "..                   ...        ...            ...      ...      ...   \n",
      "227            3499590.0       Easy        Blurred   700_23       20   \n",
      "228            3532505.0       Easy        Visuals   300_23       20   \n",
      "229            3532499.0       Easy  Blur_Plus_Vis   700_23       20   \n",
      "230            3532504.0  Difficult        Visuals  700_300       20   \n",
      "231            3534721.0  Difficult        Blurred  300_700       20   \n",
      "\n",
      "     QsCorrect  Agent_QsTotal  Agent_QsCorrect  Agent_QsWO_GhostsTotal  \\\n",
      "0          5.0             16              4.0                      12   \n",
      "1          1.0             16              1.0                      12   \n",
      "2          5.0             16              5.0                      12   \n",
      "3          8.0             16              5.0                      12   \n",
      "4          2.0             16              0.0                      12   \n",
      "..         ...            ...              ...                     ...   \n",
      "227        9.0             16              6.0                      12   \n",
      "228        7.0             16              5.0                      12   \n",
      "229       12.0             16              9.0                      12   \n",
      "230        7.0             16              4.0                      12   \n",
      "231        8.0             16              5.0                      12   \n",
      "\n",
      "     Agent_QsWO_GhostsCorrect  ...  Q19_Response  Q19_Correct  Q20_Response  \\\n",
      "0                         2.0  ...           4.0          0.0           3.0   \n",
      "1                         1.0  ...           4.0          0.0           2.0   \n",
      "2                         3.0  ...           4.0          0.0           3.0   \n",
      "3                         5.0  ...           5.0          1.0           4.0   \n",
      "4                         0.0  ...           4.0          1.0           4.0   \n",
      "..                        ...  ...           ...          ...           ...   \n",
      "227                       3.0  ...           5.0          1.0           5.0   \n",
      "228                       5.0  ...           5.0          1.0           5.0   \n",
      "229                       9.0  ...           4.0          1.0           4.0   \n",
      "230                       2.0  ...           3.0          1.0           3.0   \n",
      "231                       5.0  ...           4.0          0.0           2.0   \n",
      "\n",
      "     Q20_Correct  CompCorrectSum  CompResponseMode  P0_played  P1_played  \\\n",
      "0            0.0             1.0               3.0        2.0        9.0   \n",
      "1            0.0             0.0               4.0        1.0       17.0   \n",
      "2            0.0             0.0               3.0        3.0       30.0   \n",
      "3            0.0             3.0               4.0        3.0       23.0   \n",
      "4            0.0             2.0               4.0        1.0       41.0   \n",
      "..           ...             ...               ...        ...        ...   \n",
      "227          0.0             3.0               5.0        NaN       25.0   \n",
      "228          1.0             2.0               5.0        NaN       45.0   \n",
      "229          0.0             3.0               4.0        1.0       37.0   \n",
      "230          1.0             3.0               3.0        NaN       31.0   \n",
      "231          1.0             3.0               4.0        NaN       19.0   \n",
      "\n",
      "     P2_played  P3_played  \n",
      "0          7.0       13.0  \n",
      "1         17.0       26.0  \n",
      "2         13.0       16.0  \n",
      "3          5.0       20.0  \n",
      "4          4.0        7.0  \n",
      "..         ...        ...  \n",
      "227       20.0       32.0  \n",
      "228       20.0       49.0  \n",
      "229       23.0       54.0  \n",
      "230       18.0       59.0  \n",
      "231       17.0       35.0  \n",
      "\n",
      "[232 rows x 158 columns]\n"
     ]
    },
    {
     "name": "stderr",
     "output_type": "stream",
     "text": [
      "/usr/local/anaconda3/lib/python3.7/site-packages/ipykernel_launcher.py:11: FutureWarning: inplace is deprecated and will be removed in a future version.\n",
      "  # This is added back by InteractiveShellApp.init_path()\n"
     ]
    }
   ],
   "source": [
    "# need to group by agent and sum vidPlayed, then add as new column\n",
    "testDF = tmp_taskDF.copy()\n",
    "\n",
    "sum_df = testDF.groupby(['ParticipantPublicID','AgentNum']).agg({'vidPlayed': 'sum'})\n",
    "print(sum_df)\n",
    "\n",
    "# Now need to pop into likertSlim based on agentNum and pID\n",
    "sumT = sum_df.unstack()\n",
    "\n",
    "print(sumT)\n",
    "sumT.columns.set_levels([\"P0_played\",\"P1_played\",\"P2_played\",\"P3_played\"], level=1,inplace=True)\n",
    "print(sumT)\n",
    "\n",
    "sumT.columns = sumT.columns.droplevel(0)\n",
    "print(sumT)\n",
    "\n",
    "likertTemp = pd.merge(likertSlim,sumT,on='ParticipantPublicID',how=\"left\")\n",
    "print(likertTemp)"
   ]
  },
  {
   "cell_type": "code",
   "execution_count": 220,
   "metadata": {},
   "outputs": [],
   "source": [
    "# tmp = taskL.copy()\n",
    "\n",
    "# for p_index, pID in enumerate(tmp.ParticipantPublicID.unique()):\n",
    "\n",
    "#     likertSlim.at[pID,'P1_played'] = tmp.loc[(tmp['ParticipantPublicID'] == pID) & (tmp['AgentNum'] == 1)]['vidPlayed'].sum().astype(int)\n",
    "# #     print(likertSlim.at[pID,'P1_played'])\n",
    "#     likertSlim.at[pID,'P2_played'] = tmp.loc[(tmp['ParticipantPublicID'] == pID) & (tmp['AgentNum'] == 2)]['vidPlayed'].sum().astype(int)\n",
    "#     likertSlim.at[pID,'P3_played'] = tmp.loc[(tmp['ParticipantPublicID'] == pID) & (tmp['AgentNum'] == 3)]['vidPlayed'].sum().astype(int)\n",
    "\n",
    "# print(likertSlim.at[pID,'P1_played'])\n",
    "# print(likertSlim.at[pID,'P2_played'])\n",
    "# print(likertSlim.at[pID,'P3_played'])"
   ]
  },
  {
   "cell_type": "code",
   "execution_count": 449,
   "metadata": {},
   "outputs": [
    {
     "name": "stdout",
     "output_type": "stream",
     "text": [
      "84\n",
      "0      9.0\n",
      "1     17.0\n",
      "2     30.0\n",
      "3     23.0\n",
      "4     41.0\n",
      "      ... \n",
      "79    19.0\n",
      "80    20.0\n",
      "81    84.0\n",
      "82    95.0\n",
      "83    21.0\n",
      "Name: P1_played, Length: 84, dtype: float64\n",
      "148\n"
     ]
    }
   ],
   "source": [
    "likertTemp['diff'] = likertTemp['P1_played'] - likertTemp['P2_played']\n",
    "\n",
    "\n",
    "# print(likertSlim.at[pID,'P1_played'])\n",
    "# print(likertSlim.at[pID,'P2_played'])\n",
    "# print(likertSlim.at[pID,'P3_played'])\n",
    "# print(likertSlim.at[pID,'diff'])\n",
    "\n",
    "\n",
    "\n",
    "earlyV = likertTemp.query('ExperimentVersion<68.0').copy()\n",
    "print(len(earlyV))\n",
    "print(earlyV['P1_played'])\n",
    "\n",
    "lateV = likertTemp.query('ExperimentVersion>=68.0').copy()\n",
    "print(len(lateV))\n",
    "\n",
    "# print(lateV.at[pID,'P1_played'])\n",
    "# print(lateV.at[pID,'P2_played'])\n",
    "# print(lateV.at[pID,'P3_played'])\n",
    "# print(lateV.at[pID,'diff'])"
   ]
  },
  {
   "cell_type": "code",
   "execution_count": 450,
   "metadata": {},
   "outputs": [
    {
     "name": "stderr",
     "output_type": "stream",
     "text": [
      "/usr/local/anaconda3/lib/python3.7/site-packages/seaborn/_decorators.py:43: FutureWarning: Pass the following variables as keyword args: x, y. From version 0.12, the only valid positional argument will be `data`, and passing other arguments without an explicit keyword will result in an error or misinterpretation.\n",
      "  FutureWarning\n"
     ]
    },
    {
     "data": {
      "image/png": "[encoded data removed]",
      "text/plain": [
       "<Figure size 360x360 with 1 Axes>"
      ]
     },
     "metadata": {},
     "output_type": "display_data"
    },
    {
     "name": "stderr",
     "output_type": "stream",
     "text": [
      "/usr/local/anaconda3/lib/python3.7/site-packages/seaborn/_decorators.py:43: FutureWarning: Pass the following variables as keyword args: x, y. From version 0.12, the only valid positional argument will be `data`, and passing other arguments without an explicit keyword will result in an error or misinterpretation.\n",
      "  FutureWarning\n"
     ]
    },
    {
     "data": {
      "text/plain": [
       "<seaborn.axisgrid.FacetGrid at 0x7f7f12dcc690>"
      ]
     },
     "execution_count": 450,
     "metadata": {},
     "output_type": "execute_result"
    },
    {
     "data": {
      "image/png": "[encoded data removed]",
      "text/plain": [
       "<Figure size 360x360 with 1 Axes>"
      ]
     },
     "metadata": {},
     "output_type": "display_data"
    }
   ],
   "source": [
    "sns.lmplot('ExperimentVersion','tot2Perc',data=likertSlim)\n",
    "plt.show()\n",
    "sns.lmplot('P2_played','tot2Perc',data=lateV)"
   ]
  },
  {
   "cell_type": "code",
   "execution_count": 451,
   "metadata": {},
   "outputs": [],
   "source": [
    "def fancyWilcoxon(a,b,df):\n",
    "    data1 = df[a]\n",
    "    data2 = df[b]\n",
    "    print(\"\\n\" + str(a) + ' ' + str(stats.tmean(df[a])) + ' ' + str(stats.tstd(df[a])))\n",
    "    print(str(b) + ' ' + str(stats.tmean(df[b])) + ' ' + str(stats.tstd(df[b])))\n",
    "    # Calculate the Wilcoxon signed-rank test.\n",
    "    return(wilcoxon(data1, data2))"
   ]
  },
  {
   "cell_type": "code",
   "execution_count": 452,
   "metadata": {},
   "outputs": [
    {
     "name": "stdout",
     "output_type": "stream",
     "text": [
      "WilcoxonResult(statistic=835.0, pvalue=0.8714810260574171)\n"
     ]
    }
   ],
   "source": [
    "print(wilcoxon(likertTemp[likertTemp['ExperimentVersion']<68.0]['tot2Perc'], likertTemp[likertTemp['ExperimentVersion']<68.0]['tot1Perc']))"
   ]
  },
  {
   "cell_type": "code",
   "execution_count": 453,
   "metadata": {},
   "outputs": [
    {
     "name": "stdout",
     "output_type": "stream",
     "text": [
      "KruskalResult(statistic=0.01410993915149613, pvalue=0.9054454829503221)\n",
      "KruskalResult(statistic=0.01410993915149613, pvalue=0.9054454829503221)\n",
      "KruskalResult(statistic=0.272137526123384, pvalue=0.6019014926964077)\n",
      "KruskalResult(statistic=0.17420914929283757, pvalue=0.6763977787276405)\n",
      "KruskalResult(statistic=0.7001560331072325, pvalue=0.402731269831336)\n",
      "KruskalResult(statistic=0.018576982975057697, pvalue=0.8915861741922994)\n",
      "KruskalResult(statistic=0.12028546619832518, pvalue=0.7287250844704163)\n",
      "KruskalResult(statistic=9.031992591481147, pvalue=0.0026529514419728235)\n"
     ]
    }
   ],
   "source": [
    "# print(stats.ttest_ind(earlyV['totPerc'],lateV['totPerc']))\n",
    "# print(stats.ttest_ind(earlyV['tot1Perc'],lateV['tot1Perc']))\n",
    "# print(stats.ttest_ind(earlyV['tot2Perc'],lateV['tot2Perc']))\n",
    "# print(stats.ttest_ind(earlyV['agTotPerc'],lateV['agTotPerc']))\n",
    "# print(stats.ttest_ind(earlyV['tot1Perc'],earlyV['tot2Perc']))\n",
    "# print(stats.ttest_ind(lateV['tot1Perc'],lateV['tot2Perc']))\n",
    "# print(stats.ttest_ind(earlyV['ratioVidPlaysToAvg'],lateV['ratioVidPlaysToAvg']))\n",
    "\n",
    "\n",
    "print(stats.kruskal(earlyV['totPerc'],lateV['totPerc']))\n",
    "print(stats.kruskal(earlyV['totPerc'],lateV['totPerc']))\n",
    "print(stats.kruskal(earlyV['tot1Perc'],lateV['tot1Perc']))\n",
    "print(stats.kruskal(earlyV['tot2Perc'],lateV['tot2Perc']))\n",
    "print(stats.kruskal(earlyV['agTotPerc'],lateV['agTotPerc']))\n",
    "print(stats.kruskal(earlyV['tot1Perc'],earlyV['tot2Perc']))\n",
    "print(stats.kruskal(lateV['tot1Perc'],lateV['tot2Perc']))\n",
    "print(stats.kruskal(earlyV['ratioVidPlaysToAvg'],lateV['ratioVidPlaysToAvg']))\n"
   ]
  },
  {
   "cell_type": "code",
   "execution_count": 470,
   "metadata": {
    "scrolled": true
   },
   "outputs": [
    {
     "name": "stdout",
     "output_type": "stream",
     "text": [
      "Was there a difference between parts one and two? Yes\n",
      "WilcoxonResult(statistic=342.0, pvalue=8.703623515777698e-10)\n",
      "WilcoxonResult(statistic=545.0, pvalue=4.09593801770707e-20)\n",
      "Was there a difference between before implemented and after? Yes\n",
      "MannwhitneyuResult(statistic=5255.5, pvalue=0.025282528254397838)\n",
      "MannwhitneyuResult(statistic=3721.5, pvalue=1.778633022574087e-07)\n",
      "MannwhitneyuResult(statistic=1392.5, pvalue=3.671770304188332e-23)\n",
      "MannwhitneyuResult(statistic=2679.5, pvalue=3.050820109530759e-13)\n",
      "Was there a difference in score before? No\n",
      "WilcoxonResult(statistic=835.0, pvalue=0.8714810260574171)\n",
      "Was there a difference in score after? No\n",
      "WilcoxonResult(statistic=3045.0, pvalue=0.9817343260797976)\n",
      "Was there a difference in score before versus after? No\n",
      "MannwhitneyuResult(statistic=5966.0, pvalue=0.301314124221732)\n",
      "p2\n",
      "MannwhitneyuResult(statistic=6015.0, pvalue=0.338578627735747)\n",
      "tot\n",
      "MannwhitneyuResult(statistic=6158.0, pvalue=0.45312841535939713)\n",
      "MannwhitneyuResult(statistic=5808.5, pvalue=0.2016543699009365)\n",
      "MannwhitneyuResult(statistic=5449.0, pvalue=0.051146841614837096)\n"
     ]
    }
   ],
   "source": [
    "# NOTE: 1 sample 2 measures non-parametric = Wilcoxon\n",
    "# NOTE: 2 sample 2 measures non-parametric = MannWhitneyU\n",
    "#\n",
    "# print(earlyV['P1_played']==earlyV['P2_played'])\n",
    "# print(earlyV.at[pID,'P1_played'])\n",
    "# print(earlyV.at[pID,'P2_played'])\n",
    "# print(earlyV.at[pID,'P3_played'])\n",
    "\n",
    "\n",
    "print(\"Was there a difference between parts one and two? Yes\")\n",
    "# print(lateV['P1_played'].dtypes)\n",
    "print(stats.wilcoxon(earlyV['P1_played'],earlyV['P2_played']))\n",
    "# Note, sig diff between played on one and played on two\n",
    "print(stats.wilcoxon(lateV['P1_played'],lateV['P2_played']))\n",
    "# note, diff remained after change though\n",
    "\n",
    "print(\"Was there a difference between before implemented and after? Yes\")\n",
    "print(stats.mannwhitneyu(earlyV['P1_played'],lateV['P1_played']))\n",
    "print(stats.mannwhitneyu(earlyV['P2_played'],lateV['P2_played']))\n",
    "print(stats.mannwhitneyu(earlyV['P3_played'],lateV['P3_played']))\n",
    "print(stats.mannwhitneyu(earlyV['vidPlayed'],lateV['vidPlayed']))\n",
    "\n",
    "print(\"Was there a difference in score before? No\")\n",
    "print(stats.wilcoxon(earlyV['tot1Perc'],earlyV['tot2Perc']))\n",
    "print(\"Was there a difference in score after? No\")\n",
    "print(stats.wilcoxon(lateV['tot1Perc'],lateV['tot2Perc']))\n",
    "\n",
    "print(\"Was there a difference in score before versus after? No\")\n",
    "print(stats.mannwhitneyu(earlyV['tot1Perc'],lateV['tot1Perc']))\n",
    "print(\"p2\")\n",
    "print(stats.mannwhitneyu(earlyV['tot2Perc'],lateV['tot2Perc']))\n",
    "print(\"tot\")\n",
    "print(stats.mannwhitneyu(earlyV['totPerc'],lateV['totPerc']))\n",
    "print(stats.mannwhitneyu(earlyV['agTotPerc'],lateV['agTotPerc']))\n",
    "print(stats.mannwhitneyu(earlyV['compPerc'],lateV['compPerc']))"
   ]
  },
  {
   "cell_type": "code",
   "execution_count": null,
   "metadata": {},
   "outputs": [],
   "source": []
  },
  {
   "cell_type": "code",
   "execution_count": 455,
   "metadata": {},
   "outputs": [
    {
     "data": {
      "text/plain": [
       "{'whiskers': [<matplotlib.lines.Line2D at 0x7f7f131d0e10>,\n",
       "  <matplotlib.lines.Line2D at 0x7f7f131de210>,\n",
       "  <matplotlib.lines.Line2D at 0x7f7f131e9a90>,\n",
       "  <matplotlib.lines.Line2D at 0x7f7f131e9e50>],\n",
       " 'caps': [<matplotlib.lines.Line2D at 0x7f7f131de610>,\n",
       "  <matplotlib.lines.Line2D at 0x7f7f131dea10>,\n",
       "  <matplotlib.lines.Line2D at 0x7f7f131f4290>,\n",
       "  <matplotlib.lines.Line2D at 0x7f7f131f4690>],\n",
       " 'boxes': [<matplotlib.lines.Line2D at 0x7f7f131d0ad0>,\n",
       "  <matplotlib.lines.Line2D at 0x7f7f131e9690>],\n",
       " 'medians': [<matplotlib.lines.Line2D at 0x7f7f131dee50>,\n",
       "  <matplotlib.lines.Line2D at 0x7f7f131f4a90>],\n",
       " 'fliers': [<matplotlib.lines.Line2D at 0x7f7f131e9290>,\n",
       "  <matplotlib.lines.Line2D at 0x7f7f131f4e90>],\n",
       " 'means': []}"
      ]
     },
     "execution_count": 455,
     "metadata": {},
     "output_type": "execute_result"
    },
    {
     "data": {
      "image/png": "[encoded data removed]",
      "text/plain": [
       "<Figure size 1080x432 with 2 Axes>"
      ]
     },
     "metadata": {},
     "output_type": "display_data"
    }
   ],
   "source": [
    "fig, axes = plt.subplots(nrows=1,ncols=2,figsize=(15,6),sharey=True)\n",
    "\n",
    "data = earlyV[['P1_played','P2_played']]\n",
    "\n",
    "axes[0].boxplot(data)\n",
    "\n",
    "data = lateV[['P1_played','P2_played']]\n",
    "\n",
    "axes[1].boxplot(data)\n",
    "\n",
    "# data = earlyV[['tot1Perc','tot2Perc']]\n",
    "\n",
    "# axes[2].boxplot(data)\n",
    "\n",
    "# data = lateV[['tot1Perc','tot2Perc']]\n",
    "\n",
    "# axes[2].boxplot(data)"
   ]
  },
  {
   "cell_type": "code",
   "execution_count": 467,
   "metadata": {},
   "outputs": [
    {
     "name": "stdout",
     "output_type": "stream",
     "text": [
      "...........................vidPlays1\n",
      "Mean before\n",
      "26.678571428571427\n",
      "Std before\n",
      "26.058858639572957\n",
      "Mean after\n",
      "25.7972972972973\n",
      "Std after\n",
      "13.987827292814208\n",
      "...........................vidPlays2\n",
      "Mean before\n",
      "15.297619047619047\n",
      "Std before\n",
      "6.976159728651697\n",
      "Mean after\n",
      "17.64189189189189\n",
      "Std P2_played\n",
      "6.976159728651697\n",
      "...........................vidPlays3\n",
      "Mean before\n",
      "17.05952380952381\n",
      "Mean after\n",
      "42.25\n",
      "...........................diff\n",
      "Mean before\n",
      "11.380952380952381\n",
      "Mean after\n",
      "8.155405405405405\n",
      "Median before\n",
      "8.0\n",
      "Median after\n",
      "6.0\n",
      "Mode before\n",
      "0    3.0\n",
      "1    4.0\n",
      "2    5.0\n",
      "dtype: float64\n",
      "Mode after\n",
      "0     2.0\n",
      "1    10.0\n",
      "dtype: float64\n",
      "...........................tot2Perc\n",
      "Mean before\n",
      "29.017857142857142\n",
      "Mean after\n",
      "27.618243243243242\n",
      "Median before\n",
      "25.0\n",
      "Median after\n",
      "25.0\n",
      "Mode before\n",
      "0    12.5\n",
      "dtype: float64\n",
      "Mode after\n",
      "0    12.5\n",
      "dtype: float64\n",
      "...........................agTotPerc\n",
      "Mean before\n",
      "28.86904761904762\n",
      "Mean after\n",
      "27.407094594594593\n",
      "Median before\n",
      "25.0\n",
      "Median after\n",
      "25.0\n",
      "Mode before\n",
      "0    25.0\n",
      "dtype: float64\n",
      "Mode after\n",
      "0    18.75\n",
      "dtype: float64\n",
      "...........................totPerc\n",
      "Mean before\n",
      "35.11904761904762\n",
      "Mean after\n",
      "35.236486486486484\n",
      "Median before\n",
      "35.0\n",
      "Median after\n",
      "35.0\n",
      "Mode before\n",
      "0    25.0\n",
      "1    30.0\n",
      "2    35.0\n",
      "dtype: float64\n",
      "Mode after\n",
      "0    35.0\n",
      "dtype: float64\n"
     ]
    }
   ],
   "source": [
    "# concatenated = pd.concat([earlyV.assign(dataset='set1'), lateV.assign(dataset='set2')])\n",
    "# plt.figure(figsize=(15,6))\n",
    "# sns.scatterplot(x='tot2Perc', y='diff', data=concatenated,\n",
    "#                 style='dataset')\n",
    "\n",
    "print(\"...........................vidPlays1\")\n",
    "print(\"Mean before\")\n",
    "print(earlyV['P1_played'].mean())\n",
    "print(\"Std before\")\n",
    "print(earlyV['P1_played'].std())\n",
    "print(\"Mean after\")\n",
    "print(lateV['P1_played'].mean())\n",
    "print(\"Std after\")\n",
    "print(lateV['P1_played'].std())\n",
    "\n",
    "print(\"...........................vidPlays2\")\n",
    "print(\"Mean before\")\n",
    "print(earlyV['P2_played'].mean())\n",
    "print(\"Std before\")\n",
    "print(lateV['P2_played'].std())\n",
    "print(\"Mean after\")\n",
    "print(lateV['P2_played'].mean())\n",
    "print(\"Std P2_played\")\n",
    "print(lateV['P2_played'].std())\n",
    "\n",
    "print(\"...........................vidPlays3\")\n",
    "print(\"Mean before\")\n",
    "print(earlyV['P3_played'].mean())\n",
    "print(\"Mean after\")\n",
    "print(lateV['P3_played'].mean())\n",
    "\n",
    "print(\"...........................diff\")\n",
    "print(\"Mean before\")\n",
    "print(earlyV['diff'].mean())\n",
    "print(\"Mean after\")\n",
    "print(lateV['diff'].mean())\n",
    "\n",
    "print(\"Median before\")\n",
    "print(earlyV['diff'].median())\n",
    "print(\"Median after\")\n",
    "print(lateV['diff'].median())\n",
    "\n",
    "print(\"Mode before\")\n",
    "print(earlyV['diff'].mode())\n",
    "print(\"Mode after\")\n",
    "print(lateV['diff'].mode())\n",
    "\n",
    "print(\"...........................tot2Perc\")\n",
    "\n",
    "print(\"Mean before\")\n",
    "print(earlyV['tot2Perc'].mean())\n",
    "print(\"Mean after\")\n",
    "print(lateV['tot2Perc'].mean())\n",
    "\n",
    "print(\"Median before\")\n",
    "print(earlyV['tot2Perc'].median())\n",
    "print(\"Median after\")\n",
    "print(lateV['tot2Perc'].median())\n",
    "\n",
    "print(\"Mode before\")\n",
    "print(earlyV['tot2Perc'].mode())\n",
    "print(\"Mode after\")\n",
    "print(lateV['tot2Perc'].mode())\n",
    "\n",
    "print(\"...........................agTotPerc\")\n",
    "\n",
    "print(\"Mean before\")\n",
    "print(earlyV['agTotPerc'].mean())\n",
    "print(\"Mean after\")\n",
    "print(lateV['agTotPerc'].mean())\n",
    "\n",
    "print(\"Median before\")\n",
    "print(earlyV['agTotPerc'].median())\n",
    "print(\"Median after\")\n",
    "print(lateV['agTotPerc'].median())\n",
    "\n",
    "print(\"Mode before\")\n",
    "print(earlyV['agTotPerc'].mode())\n",
    "print(\"Mode after\")\n",
    "print(lateV['agTotPerc'].mode())\n",
    "\n",
    "print(\"...........................totPerc\")\n",
    "\n",
    "print(\"Mean before\")\n",
    "print(earlyV['totPerc'].mean())\n",
    "print(\"Mean after\")\n",
    "print(lateV['totPerc'].mean())\n",
    "\n",
    "print(\"Median before\")\n",
    "print(earlyV['totPerc'].median())\n",
    "print(\"Median after\")\n",
    "print(lateV['totPerc'].median())\n",
    "\n",
    "print(\"Mode before\")\n",
    "print(earlyV['totPerc'].mode())\n",
    "print(\"Mode after\")\n",
    "print(lateV['totPerc'].mode())"
   ]
  },
  {
   "cell_type": "code",
   "execution_count": 199,
   "metadata": {},
   "outputs": [
    {
     "name": "stdout",
     "output_type": "stream",
     "text": [
      "0.0\n",
      "0.0\n",
      "0.0\n",
      "0.0\n"
     ]
    }
   ],
   "source": [
    "print(earlyV['P1_played'].mean())\n",
    "print(earlyV['P2_played'].mean())\n",
    "\n",
    "print(lateV['P1_played'].mean())\n",
    "print(lateV['P2_played'].mean())"
   ]
  },
  {
   "cell_type": "code",
   "execution_count": 164,
   "metadata": {},
   "outputs": [
    {
     "name": "stderr",
     "output_type": "stream",
     "text": [
      "/usr/local/anaconda3/lib/python3.7/site-packages/ipykernel_launcher.py:1: SettingWithCopyWarning: \n",
      "A value is trying to be set on a copy of a slice from a DataFrame.\n",
      "Try using .loc[row_indexer,col_indexer] = value instead\n",
      "\n",
      "See the caveats in the documentation: https://pandas.pydata.org/pandas-docs/stable/user_guide/indexing.html#returning-a-view-versus-a-copy\n",
      "  \"\"\"Entry point for launching an IPython kernel.\n",
      "/usr/local/anaconda3/lib/python3.7/site-packages/ipykernel_launcher.py:2: SettingWithCopyWarning: \n",
      "A value is trying to be set on a copy of a slice from a DataFrame.\n",
      "Try using .loc[row_indexer,col_indexer] = value instead\n",
      "\n",
      "See the caveats in the documentation: https://pandas.pydata.org/pandas-docs/stable/user_guide/indexing.html#returning-a-view-versus-a-copy\n",
      "  \n"
     ]
    }
   ],
   "source": []
  },
  {
   "cell_type": "code",
   "execution_count": 122,
   "metadata": {},
   "outputs": [
    {
     "name": "stdout",
     "output_type": "stream",
     "text": [
      "KruskalResult(statistic=0.27363390100337803, pvalue=0.6009044719676674)\n",
      "MannwhitneyuResult(statistic=25589.5, pvalue=0.30058105383503875)\n"
     ]
    }
   ],
   "source": [
    "print(stats.kruskal(earlyV['diff'],lateV['diff']))\n",
    "print(stats.mannwhitneyu(earlyV['diff'],lateV['diff']))"
   ]
  },
  {
   "cell_type": "code",
   "execution_count": 121,
   "metadata": {},
   "outputs": [
    {
     "name": "stdout",
     "output_type": "stream",
     "text": [
      "(0.27903325252111266, 0.0009999999999998899)\n",
      "(0.2864242488363289, 0.0009999999999998899)\n",
      "(0.2722461208490881, 0.0009999999999998899)\n",
      "(0.3058788897450222, 0.0009999999999998899)\n",
      "(0.30004512707994, 0.0009999999999998899)\n",
      "(0.32147915669917604, 0.0009999999999998899)\n",
      "ShapiroResult(statistic=0.6431337594985962, pvalue=7.428523408378139e-19)\n",
      "ShapiroResult(statistic=0.6433981657028198, pvalue=1.0021397061392802e-24)\n",
      "ShapiroResult(statistic=0.6411838531494141, pvalue=6.648986848144517e-19)\n",
      "ShapiroResult(statistic=0.8010982871055603, pvalue=5.343573315407605e-19)\n",
      "ShapiroResult(statistic=0.557829737663269, pvalue=8.453117007218511e-21)\n",
      "ShapiroResult(statistic=0.7930875420570374, pvalue=2.3225822808508263e-19)\n"
     ]
    }
   ],
   "source": [
    "\n",
    "from scipy.stats import norm\n",
    "from statsmodels.stats.diagnostic import lilliefors\n",
    "from scipy.stats import shapiro\n",
    "\n",
    "print(lilliefors(earlyV['diff']))\n",
    "print(lilliefors(lateV['diff']))\n",
    "\n",
    "print(lilliefors(earlyV['P1_played']))\n",
    "print(lilliefors(lateV['P1_played']))\n",
    "\n",
    "print(lilliefors(earlyV['P2_played']))\n",
    "print(lilliefors(lateV['P2_played']))\n",
    "\n",
    "print(shapiro(earlyV['diff']))\n",
    "print(shapiro(lateV['diff']))\n",
    "\n",
    "print(shapiro(earlyV['P1_played']))\n",
    "print(shapiro(lateV['P1_played']))\n",
    "\n",
    "print(shapiro(earlyV['P2_played']))\n",
    "print(shapiro(lateV['P2_played']))"
   ]
  },
  {
   "cell_type": "code",
   "execution_count": 471,
   "metadata": {},
   "outputs": [],
   "source": [
    "# # Note that the three terms returned are X² statistic, p-value, and degree of freedom\n",
    "def testChiCorr(a,b,c):\n",
    "    ct = pd.crosstab(c[a], c[b], margins=True)\n",
    "    ar = []\n",
    "    for i in range(0, len(ct)-1):\n",
    "        ar.append(list(ct.iloc[i][0:-1].values))\n",
    "    obs = np.array(ar)\n",
    "    X, p, degF = stats.chi2_contingency(obs)[0:3]\n",
    "    if (p<0.05):\n",
    "        print(\"\\n\")\n",
    "        print(str(a) + \" \" + str(stats.tmean(c[a])) + \" \" + str(stats.tstd(c[a])))\n",
    "        print(str(b) + \" \" + str(stats.tmean(c[b])) + \" \" + str(stats.tstd(c[b])))\n",
    "#     else:\n",
    "#         print(\"\\n\"+ str(a) + \" \" + str(b))\n",
    "    return(X, p, degF)"
   ]
  },
  {
   "cell_type": "code",
   "execution_count": 475,
   "metadata": {},
   "outputs": [
    {
     "name": "stdout",
     "output_type": "stream",
     "text": [
      "['ParticipantPrivateID', 'difficulty', 'visuals', 'agents', 'QsTotal', 'QsCorrect', 'Agent_QsTotal', 'Agent_QsCorrect', 'Agent_QsWO_GhostsTotal', 'Agent_QsWO_GhostsCorrect', 'Qs1_Correct', 'Qs2_Correct', 'QsPart_Total', 'predictionsCorrect', 'predictionsTotal', 'predictions1Correct', 'predictions2Correct', 'predictionsHalfTotal', 'regionsCorrect', 'regionsTotal', 'regions1Correct', 'regions2Correct', 'regionsHalfTotal', 'levelCorrect', 'levelTotal', 'level1Correct', 'level2Correct', 'levelHalfTotal', 'ghostsCorrect', 'ghostsTotal', 'ghosts1Correct', 'ghosts2Correct', 'ghostsHalfTotal', 'comparisonsCorrect', 'comparisonsTotal', 'timeTakenMain_All', 'timeTakenMain_AgentsOnly', 'timeTaken_Consent', 'timeTaken_Demographics', 'timeTaken_AI', 'timeTaken_Agent1', 'timeTaken_Agent2', 'timeTaken_Agent3', 'time_TOTAL', 'vidPlayed', 'avgVidPlays', 'ratioVidPlaysToAvg', 'ExperimentVersion_x', 'totPerc', 'agTotPerc', 'tot1Perc', 'tot2Perc', 'Agent_QsWO_GhostsPerc', 'predPerc', 'pred1Perc', 'pred2Perc', 'regPerc', 'reg1Perc', 'reg2Perc', 'lvlPerc', 'lvl1Perc', 'lvl2Perc', 'ghostPerc', 'ghost1Perc', 'ghost2Perc', 'compPerc', 'TreeNodeKey_x', 'age_info', 'age_info_text', 'age_info_quantised', 'gender_id', 'gender_id_text', 'gender_id_quantised', 'education_level', 'education_level_text', 'education_level_quantised', 'ExperimentVersion', 'ParticipantPublicID', 'ai_involvement_1', 'ai_involvement_2', 'ai_involvement_3', 'ai_involvement_4', 'ai_involvement_5', 'ai_involvement_6', 'ai_involvement_text', 'ai_involvement_other', 'ai_opinion', 'ai_opinion_quantised', 'AI_longForm', 'pacman_experience', 'pacman_experience_text', 'pacman_experience_quantised', 'ProlificName', 'status', 'age', 'num_approvals', 'num_rejections', 'prolific_score', 'Country of Birth', 'Current Country of Residence', 'Employment Status', 'First Language', 'Fluent languages', 'Gender identity', 'Nationality', 'Sex', 'Student Status', 'Suspicious', 'AmtPaid', 'Notes', 'Quality Rating(1-10)', 'Part1', 'Part2', 'Part3', 'MediaAI', 'HomeAI', 'AtWorkAI', 'ClassOnAI', 'DevelopAI', 'NoneAI', 'OtherAI', 'blurring_helpful_1', 'blurring_helpful_2', 'charts_helpful_1', 'charts_helpful_2', 'info_sufficient_1', 'info_sufficient_2', 'irrelevant_distracting_1', 'irrelevant_distracting_2', 'scenarios_helpful_1', 'scenarios_helpful_2', 'likertMode', 'likert1Mode', 'likert2Mode', '17.0_Z', '18.0_Z', '19.0_Z', '20.0_Z', 'blurring_helpful_1_Z', 'blurring_helpful_2_Z', 'info_sufficient_1_Z', 'info_sufficient_2_Z', 'scenarios_helpful_1_Z', 'scenarios_helpful_2_Z', 'Q17_Response', 'Q17_Correct', 'Q18_Response', 'Q18_Correct', 'Q19_Response', 'Q19_Correct', 'Q20_Response', 'Q20_Correct', 'CompCorrectSum', 'CompResponseMode', 'P0_played', 'P1_played', 'P2_played', 'P3_played', 'diff']\n"
     ]
    }
   ],
   "source": [
    "df = likertTemp.copy()\n",
    "print(df.columns.tolist())"
   ]
  },
  {
   "cell_type": "code",
   "execution_count": 481,
   "metadata": {},
   "outputs": [
    {
     "name": "stdout",
     "output_type": "stream",
     "text": [
      "(1479.5956026979554, 0.06822277756427952, 1400)\n",
      "(692.9789555025991, 0.5676690401191855, 700)\n",
      "\n",
      "\n",
      "tot2Perc 28.125 18.45456278121721\n",
      "vidPlayed 77.58620689655173 45.11410621401554\n",
      "(672.5582074539218, 0.020940566532713253, 600)\n",
      "\n",
      "\n",
      "agTotPerc 27.936422413793103 15.21951565728815\n",
      "vidPlayed 77.58620689655173 45.11410621401554\n",
      "(1311.0967753288828, 0.01338590313676988, 1200)\n",
      "(376.81740979000296, 0.7916992935110762, 400)\n",
      "\n",
      "\n",
      "totPerc 35.19396551724138 13.967536813608135\n",
      "P1_played 26.11637931034483 19.201129313674127\n",
      "(901.053187237599, 0.002275706065660775, 784)\n",
      "(394.8979808333843, 0.44945311360111573, 392)\n",
      "\n",
      "\n",
      "tot2Perc 28.125 18.45456278121721\n",
      "P1_played 26.11637931034483 19.201129313674127\n",
      "(454.41675097389384, 1.6963157985209475e-05, 336)\n",
      "\n",
      "\n",
      "agTotPerc 27.936422413793103 15.21951565728815\n",
      "P1_played 26.11637931034483 19.201129313674127\n",
      "(807.502908351916, 0.00024035881707106058, 672)\n",
      "(220.89305009948643, 0.5461473746476015, 224)\n",
      "\n",
      "\n",
      "totPerc 35.19396551724138 13.967536813608135\n",
      "P2_played 16.79310344827586 14.307094018166769\n",
      "(712.3475750158248, 0.0012504117039537166, 602)\n",
      "(323.4352054556772, 0.17888500906908245, 301)\n",
      "\n",
      "\n",
      "tot2Perc 28.125 18.45456278121721\n",
      "P2_played 16.79310344827586 14.307094018166769\n",
      "(361.62096114304904, 2.1401718843487414e-05, 258)\n",
      "\n",
      "\n",
      "agTotPerc 27.936422413793103 15.21951565728815\n",
      "P2_played 16.79310344827586 14.307094018166769\n",
      "(621.5919818039677, 0.0009462192980565194, 516)\n",
      "(157.4354976588284, 0.7800550934240513, 172)\n"
     ]
    }
   ],
   "source": [
    "print(testChiCorr('totPerc','vidPlayed',df))\n",
    "print(testChiCorr('tot1Perc','vidPlayed',df))\n",
    "print(testChiCorr('tot2Perc','vidPlayed',df))\n",
    "print(testChiCorr('agTotPerc','vidPlayed',df))\n",
    "print(testChiCorr('compPerc','vidPlayed',df))\n",
    "\n",
    "print(testChiCorr('totPerc','P1_played',df))\n",
    "print(testChiCorr('tot1Perc','P1_played',df))\n",
    "print(testChiCorr('tot2Perc','P1_played',df))\n",
    "print(testChiCorr('agTotPerc','P1_played',df))\n",
    "print(testChiCorr('compPerc','P1_played',df))\n",
    "\n",
    "print(testChiCorr('totPerc','P2_played',df))\n",
    "print(testChiCorr('tot1Perc','P2_played',df))\n",
    "print(testChiCorr('tot2Perc','P2_played',df))\n",
    "print(testChiCorr('agTotPerc','P2_played',df))\n",
    "print(testChiCorr('compPerc','P2_played',df))"
   ]
  },
  {
   "cell_type": "code",
   "execution_count": 480,
   "metadata": {},
   "outputs": [
    {
     "ename": "TypeError",
     "evalue": "cannot convert the series to <class 'int'>",
     "output_type": "error",
     "traceback": [
      "\u001b[0;31m---------------------------------------------------------------------------\u001b[0m",
      "\u001b[0;31mTypeError\u001b[0m                                 Traceback (most recent call last)",
      "\u001b[0;32m<ipython-input-480-a0ddfe07ffc7>\u001b[0m in \u001b[0;36m<module>\u001b[0;34m\u001b[0m\n\u001b[1;32m      4\u001b[0m                      \u001b[0mdf\u001b[0m\u001b[0;34m[\u001b[0m\u001b[0mdf\u001b[0m\u001b[0;34m[\u001b[0m\u001b[0;34m'visuals'\u001b[0m\u001b[0;34m]\u001b[0m\u001b[0;34m==\u001b[0m\u001b[0mvis\u001b[0m\u001b[0;34m[\u001b[0m\u001b[0;36m1\u001b[0m\u001b[0;34m]\u001b[0m\u001b[0;34m]\u001b[0m\u001b[0;34m[\u001b[0m\u001b[0;34m'vidPlayed'\u001b[0m\u001b[0;34m]\u001b[0m\u001b[0;34m,\u001b[0m\u001b[0;31m \u001b[0m\u001b[0;31m\\\u001b[0m\u001b[0;34m\u001b[0m\u001b[0;34m\u001b[0m\u001b[0m\n\u001b[1;32m      5\u001b[0m                      \u001b[0mdf\u001b[0m\u001b[0;34m[\u001b[0m\u001b[0mdf\u001b[0m\u001b[0;34m[\u001b[0m\u001b[0;34m'visuals'\u001b[0m\u001b[0;34m]\u001b[0m\u001b[0;34m==\u001b[0m\u001b[0mvis\u001b[0m\u001b[0;34m[\u001b[0m\u001b[0;36m2\u001b[0m\u001b[0;34m]\u001b[0m\u001b[0;34m]\u001b[0m\u001b[0;34m[\u001b[0m\u001b[0;34m'vidPlayed'\u001b[0m\u001b[0;34m]\u001b[0m\u001b[0;34m,\u001b[0m\u001b[0;31m \u001b[0m\u001b[0;31m\\\u001b[0m\u001b[0;34m\u001b[0m\u001b[0;34m\u001b[0m\u001b[0m\n\u001b[0;32m----> 6\u001b[0;31m                      df[df['visuals']==vis[3]]['vidPlayed']))\n\u001b[0m\u001b[1;32m      7\u001b[0m \u001b[0;34m\u001b[0m\u001b[0m\n\u001b[1;32m      8\u001b[0m print(stats.ttest_ind(df[df['visuals']==vis[0]]['ratioVidPlaysToAvg'], \\\n",
      "\u001b[0;32m~/.local/lib/python3.7/site-packages/scipy/stats/stats.py\u001b[0m in \u001b[0;36mttest_ind\u001b[0;34m(a, b, axis, equal_var, nan_policy, alternative)\u001b[0m\n\u001b[1;32m   5769\u001b[0m         \u001b[0;32mreturn\u001b[0m \u001b[0m_ttest_nans\u001b[0m\u001b[0;34m(\u001b[0m\u001b[0ma\u001b[0m\u001b[0;34m,\u001b[0m \u001b[0mb\u001b[0m\u001b[0;34m,\u001b[0m \u001b[0maxis\u001b[0m\u001b[0;34m,\u001b[0m \u001b[0mTtest_indResult\u001b[0m\u001b[0;34m)\u001b[0m\u001b[0;34m\u001b[0m\u001b[0;34m\u001b[0m\u001b[0m\n\u001b[1;32m   5770\u001b[0m \u001b[0;34m\u001b[0m\u001b[0m\n\u001b[0;32m-> 5771\u001b[0;31m     \u001b[0mv1\u001b[0m \u001b[0;34m=\u001b[0m \u001b[0mnp\u001b[0m\u001b[0;34m.\u001b[0m\u001b[0mvar\u001b[0m\u001b[0;34m(\u001b[0m\u001b[0ma\u001b[0m\u001b[0;34m,\u001b[0m \u001b[0maxis\u001b[0m\u001b[0;34m,\u001b[0m \u001b[0mddof\u001b[0m\u001b[0;34m=\u001b[0m\u001b[0;36m1\u001b[0m\u001b[0;34m)\u001b[0m\u001b[0;34m\u001b[0m\u001b[0;34m\u001b[0m\u001b[0m\n\u001b[0m\u001b[1;32m   5772\u001b[0m     \u001b[0mv2\u001b[0m \u001b[0;34m=\u001b[0m \u001b[0mnp\u001b[0m\u001b[0;34m.\u001b[0m\u001b[0mvar\u001b[0m\u001b[0;34m(\u001b[0m\u001b[0mb\u001b[0m\u001b[0;34m,\u001b[0m \u001b[0maxis\u001b[0m\u001b[0;34m,\u001b[0m \u001b[0mddof\u001b[0m\u001b[0;34m=\u001b[0m\u001b[0;36m1\u001b[0m\u001b[0;34m)\u001b[0m\u001b[0;34m\u001b[0m\u001b[0;34m\u001b[0m\u001b[0m\n\u001b[1;32m   5773\u001b[0m     \u001b[0mn1\u001b[0m \u001b[0;34m=\u001b[0m \u001b[0ma\u001b[0m\u001b[0;34m.\u001b[0m\u001b[0mshape\u001b[0m\u001b[0;34m[\u001b[0m\u001b[0maxis\u001b[0m\u001b[0;34m]\u001b[0m\u001b[0;34m\u001b[0m\u001b[0;34m\u001b[0m\u001b[0m\n",
      "\u001b[0;32m<__array_function__ internals>\u001b[0m in \u001b[0;36mvar\u001b[0;34m(*args, **kwargs)\u001b[0m\n",
      "\u001b[0;32m~/.local/lib/python3.7/site-packages/numpy/core/fromnumeric.py\u001b[0m in \u001b[0;36mvar\u001b[0;34m(a, axis, dtype, out, ddof, keepdims)\u001b[0m\n\u001b[1;32m   3620\u001b[0m \u001b[0;34m\u001b[0m\u001b[0m\n\u001b[1;32m   3621\u001b[0m     return _methods._var(a, axis=axis, dtype=dtype, out=out, ddof=ddof,\n\u001b[0;32m-> 3622\u001b[0;31m                          **kwargs)\n\u001b[0m\u001b[1;32m   3623\u001b[0m \u001b[0;34m\u001b[0m\u001b[0m\n\u001b[1;32m   3624\u001b[0m \u001b[0;34m\u001b[0m\u001b[0m\n",
      "\u001b[0;32m~/.local/lib/python3.7/site-packages/numpy/core/_methods.py\u001b[0m in \u001b[0;36m_var\u001b[0;34m(a, axis, dtype, out, ddof, keepdims)\u001b[0m\n\u001b[1;32m    177\u001b[0m     \u001b[0marr\u001b[0m \u001b[0;34m=\u001b[0m \u001b[0masanyarray\u001b[0m\u001b[0;34m(\u001b[0m\u001b[0ma\u001b[0m\u001b[0;34m)\u001b[0m\u001b[0;34m\u001b[0m\u001b[0;34m\u001b[0m\u001b[0m\n\u001b[1;32m    178\u001b[0m \u001b[0;34m\u001b[0m\u001b[0m\n\u001b[0;32m--> 179\u001b[0;31m     \u001b[0mrcount\u001b[0m \u001b[0;34m=\u001b[0m \u001b[0m_count_reduce_items\u001b[0m\u001b[0;34m(\u001b[0m\u001b[0marr\u001b[0m\u001b[0;34m,\u001b[0m \u001b[0maxis\u001b[0m\u001b[0;34m)\u001b[0m\u001b[0;34m\u001b[0m\u001b[0;34m\u001b[0m\u001b[0m\n\u001b[0m\u001b[1;32m    180\u001b[0m     \u001b[0;31m# Make this warning show up on top.\u001b[0m\u001b[0;34m\u001b[0m\u001b[0;34m\u001b[0m\u001b[0;34m\u001b[0m\u001b[0m\n\u001b[1;32m    181\u001b[0m     \u001b[0;32mif\u001b[0m \u001b[0mddof\u001b[0m \u001b[0;34m>=\u001b[0m \u001b[0mrcount\u001b[0m\u001b[0;34m:\u001b[0m\u001b[0;34m\u001b[0m\u001b[0;34m\u001b[0m\u001b[0m\n",
      "\u001b[0;32m~/.local/lib/python3.7/site-packages/numpy/core/_methods.py\u001b[0m in \u001b[0;36m_count_reduce_items\u001b[0;34m(arr, axis)\u001b[0m\n\u001b[1;32m     64\u001b[0m     \u001b[0mitems\u001b[0m \u001b[0;34m=\u001b[0m \u001b[0;36m1\u001b[0m\u001b[0;34m\u001b[0m\u001b[0;34m\u001b[0m\u001b[0m\n\u001b[1;32m     65\u001b[0m     \u001b[0;32mfor\u001b[0m \u001b[0max\u001b[0m \u001b[0;32min\u001b[0m \u001b[0maxis\u001b[0m\u001b[0;34m:\u001b[0m\u001b[0;34m\u001b[0m\u001b[0;34m\u001b[0m\u001b[0m\n\u001b[0;32m---> 66\u001b[0;31m         \u001b[0mitems\u001b[0m \u001b[0;34m*=\u001b[0m \u001b[0marr\u001b[0m\u001b[0;34m.\u001b[0m\u001b[0mshape\u001b[0m\u001b[0;34m[\u001b[0m\u001b[0mmu\u001b[0m\u001b[0;34m.\u001b[0m\u001b[0mnormalize_axis_index\u001b[0m\u001b[0;34m(\u001b[0m\u001b[0max\u001b[0m\u001b[0;34m,\u001b[0m \u001b[0marr\u001b[0m\u001b[0;34m.\u001b[0m\u001b[0mndim\u001b[0m\u001b[0;34m)\u001b[0m\u001b[0;34m]\u001b[0m\u001b[0;34m\u001b[0m\u001b[0;34m\u001b[0m\u001b[0m\n\u001b[0m\u001b[1;32m     67\u001b[0m     \u001b[0;32mreturn\u001b[0m \u001b[0mitems\u001b[0m\u001b[0;34m\u001b[0m\u001b[0;34m\u001b[0m\u001b[0m\n\u001b[1;32m     68\u001b[0m \u001b[0;34m\u001b[0m\u001b[0m\n",
      "\u001b[0;32m/usr/local/anaconda3/lib/python3.7/site-packages/pandas/core/series.py\u001b[0m in \u001b[0;36mwrapper\u001b[0;34m(self)\u001b[0m\n\u001b[1;32m    139\u001b[0m         \u001b[0;32mif\u001b[0m \u001b[0mlen\u001b[0m\u001b[0;34m(\u001b[0m\u001b[0mself\u001b[0m\u001b[0;34m)\u001b[0m \u001b[0;34m==\u001b[0m \u001b[0;36m1\u001b[0m\u001b[0;34m:\u001b[0m\u001b[0;34m\u001b[0m\u001b[0;34m\u001b[0m\u001b[0m\n\u001b[1;32m    140\u001b[0m             \u001b[0;32mreturn\u001b[0m \u001b[0mconverter\u001b[0m\u001b[0;34m(\u001b[0m\u001b[0mself\u001b[0m\u001b[0;34m.\u001b[0m\u001b[0miloc\u001b[0m\u001b[0;34m[\u001b[0m\u001b[0;36m0\u001b[0m\u001b[0;34m]\u001b[0m\u001b[0;34m)\u001b[0m\u001b[0;34m\u001b[0m\u001b[0;34m\u001b[0m\u001b[0m\n\u001b[0;32m--> 141\u001b[0;31m         \u001b[0;32mraise\u001b[0m \u001b[0mTypeError\u001b[0m\u001b[0;34m(\u001b[0m\u001b[0;34mf\"cannot convert the series to {converter}\"\u001b[0m\u001b[0;34m)\u001b[0m\u001b[0;34m\u001b[0m\u001b[0;34m\u001b[0m\u001b[0m\n\u001b[0m\u001b[1;32m    142\u001b[0m \u001b[0;34m\u001b[0m\u001b[0m\n\u001b[1;32m    143\u001b[0m     \u001b[0mwrapper\u001b[0m\u001b[0;34m.\u001b[0m\u001b[0m__name__\u001b[0m \u001b[0;34m=\u001b[0m \u001b[0;34mf\"__{converter.__name__}__\"\u001b[0m\u001b[0;34m\u001b[0m\u001b[0;34m\u001b[0m\u001b[0m\n",
      "\u001b[0;31mTypeError\u001b[0m: cannot convert the series to <class 'int'>"
     ]
    }
   ],
   "source": [
    "vis = df.visuals.unique()\n",
    "\n",
    "print(stats.ttest_ind(df[df['visuals']==vis[0]]['vidPlayed'], \\\n",
    "                     df[df['visuals']==vis[1]]['vidPlayed'], \\\n",
    "                     df[df['visuals']==vis[2]]['vidPlayed'], \\\n",
    "                     df[df['visuals']==vis[3]]['vidPlayed']))\n",
    "      \n",
    "print(stats.ttest_ind(df[df['visuals']==vis[0]]['ratioVidPlaysToAvg'], \\\n",
    "                     df[df['visuals']==vis[1]]['ratioVidPlaysToAvg'], \\\n",
    "                     df[df['visuals']==vis[2]]['ratioVidPlaysToAvg'], \\\n",
    "                     df[df['visuals']==vis[3]]['ratioVidPlaysToAvg']))\n",
    "      \n",
    "print(stats.ttest_ind(df[df['visuals']==vis[0]]['avgVidPlays'], \\\n",
    "                     df[df['visuals']==vis[1]]['avgVidPlays'], \\\n",
    "                     df[df['visuals']==vis[2]]['avgVidPlays'], \\\n",
    "                     df[df['visuals']==vis[3]]['avgVidPlays']))"
   ]
  },
  {
   "cell_type": "code",
   "execution_count": null,
   "metadata": {},
   "outputs": [],
   "source": []
  }
 ],
 "metadata": {
  "kernelspec": {
   "display_name": "Python 3",
   "language": "python",
   "name": "python3"
  },
  "language_info": {
   "codemirror_mode": {
    "name": "ipython",
    "version": 3
   },
   "file_extension": ".py",
   "mimetype": "text/x-python",
   "name": "python",
   "nbconvert_exporter": "python",
   "pygments_lexer": "ipython3",
   "version": "3.7.9"
  }
 },
 "nbformat": 4,
 "nbformat_minor": 4
}
